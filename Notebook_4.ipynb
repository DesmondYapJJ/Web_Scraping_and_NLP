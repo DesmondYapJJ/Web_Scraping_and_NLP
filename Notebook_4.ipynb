{
 "cells": [
  {
   "cell_type": "markdown",
   "id": "7a3e6b6b-6317-4413-9779-6f217d8f96b8",
   "metadata": {},
   "source": [
    "<img src=\"http://imgur.com/1ZcRyrc.png\" style=\"float: left; margin: 20px; height: 55px\">\n",
    "\n",
    "# Project 3: Web APIs & NLP"
   ]
  },
  {
   "cell_type": "markdown",
   "id": "99bfd5ba-c73d-4a1a-af1e-8b31bc4b4323",
   "metadata": {},
   "source": [
    "# Part 4 of 4"
   ]
  },
  {
   "cell_type": "markdown",
   "id": "5a4a3ed6-54f3-4a4e-8035-42e1f3fba454",
   "metadata": {
    "tags": []
   },
   "source": [
    "# Contents: \n",
    "Part 1: Data Collection \n",
    "\n",
    "- Webscrapping Subreddit Tea\n",
    "\n",
    "- Webscrapping Subreddit Coffee\n",
    "\n",
    "- Summary\n",
    "\n",
    "Part 2: EDA and Data Cleaning\n",
    "\n",
    "- Tea\n",
    "\n",
    "- Coffee\n",
    "\n",
    "- Initial Identification of Top Words\n",
    "\n",
    "- Compare Lemmatization and Stemming\n",
    "\n",
    "- Summary\n",
    "\n",
    "Part 3: Modelling and Model Evaluation\n",
    "\n",
    "- Base Model\n",
    "\n",
    "- CVEC with Log Regression\n",
    "\n",
    "- TFIDF with Log Regression\n",
    "\n",
    "- CVEC with Naive Bayes\n",
    "\n",
    "- TFIDF with Naive Bayes\n",
    "\n",
    "- CVEC with Random Forest\n",
    "\n",
    "- TFIDF with Random Forest\n",
    "\n",
    "Part 4: Sentiment Analysis, Recommendation and Conclusion\n",
    "\n",
    "-[Summary for Tea](#SumTea)\n",
    "\n",
    "-[Summary for Coffee](#SumCoffee)\n",
    "\n",
    "-[Recommendation and Conclusion](#Conclusion)"
   ]
  },
  {
   "cell_type": "code",
   "execution_count": 1,
   "id": "c6d9b9a0-a4f4-4330-8712-bac046c98c7f",
   "metadata": {},
   "outputs": [],
   "source": [
    "# imports\n",
    "import pandas as pd\n",
    "import matplotlib.pyplot as plt\n",
    "import seaborn as sns\n",
    "# from sklearn.model_selection import cross_val_score, train_test_split, GridSearchCV # split our data and run hyperparameter search\n",
    "# from sklearn.pipeline import Pipeline # to compactly pack multiple modeling operations\n",
    "# from sklearn.naive_bayes import MultinomialNB # to build our classification model\n",
    "# from sklearn.metrics import confusion_matrix, ConfusionMatrixDisplay # to access results from binary classification task (you may also import other specific classification metrics)\n",
    "# from sklearn.linear_model import LogisticRegression\n",
    "\n",
    "# Import CountVectorizer and TFIDFVectorizer from feature_extraction.text.\n",
    "from sklearn.feature_extraction.text import CountVectorizer, TfidfVectorizer\n",
    "\n",
    "# imports for contextual embeddings\n",
    "from transformers import pipeline"
   ]
  },
  {
   "cell_type": "code",
   "execution_count": 2,
   "id": "addfc879-a67a-47ab-871e-8dcc8c9690a6",
   "metadata": {},
   "outputs": [],
   "source": [
    "# import csv\n",
    "df = pd.read_csv('./data/df_export.csv')\n",
    "# stem_X = pd.read_csv('./data/stem_X.csv')"
   ]
  },
  {
   "cell_type": "code",
   "execution_count": 3,
   "id": "c4933568-e8b0-4424-b446-401bb12dcd5e",
   "metadata": {},
   "outputs": [
    {
     "name": "stdout",
     "output_type": "stream",
     "text": [
      "<class 'pandas.core.frame.DataFrame'>\n",
      "RangeIndex: 24926 entries, 0 to 24925\n",
      "Data columns (total 3 columns):\n",
      " #   Column         Non-Null Count  Dtype \n",
      "---  ------         --------------  ----- \n",
      " 0   subreddit      24926 non-null  int64 \n",
      " 1   title          24926 non-null  object\n",
      " 2   stemmed_title  24871 non-null  object\n",
      "dtypes: int64(1), object(2)\n",
      "memory usage: 584.3+ KB\n"
     ]
    }
   ],
   "source": [
    "df.info()"
   ]
  },
  {
   "cell_type": "code",
   "execution_count": 4,
   "id": "ee8ce8f2-f475-400c-9450-cee01f853db6",
   "metadata": {
    "scrolled": true,
    "tags": []
   },
   "outputs": [
    {
     "data": {
      "text/html": [
       "<div>\n",
       "<style scoped>\n",
       "    .dataframe tbody tr th:only-of-type {\n",
       "        vertical-align: middle;\n",
       "    }\n",
       "\n",
       "    .dataframe tbody tr th {\n",
       "        vertical-align: top;\n",
       "    }\n",
       "\n",
       "    .dataframe thead th {\n",
       "        text-align: right;\n",
       "    }\n",
       "</style>\n",
       "<table border=\"1\" class=\"dataframe\">\n",
       "  <thead>\n",
       "    <tr style=\"text-align: right;\">\n",
       "      <th></th>\n",
       "      <th>subreddit</th>\n",
       "      <th>title</th>\n",
       "      <th>stemmed_title</th>\n",
       "    </tr>\n",
       "  </thead>\n",
       "  <tbody>\n",
       "    <tr>\n",
       "      <th>113</th>\n",
       "      <td>1</td>\n",
       "      <td>what is this on my tea</td>\n",
       "      <td>NaN</td>\n",
       "    </tr>\n",
       "    <tr>\n",
       "      <th>645</th>\n",
       "      <td>1</td>\n",
       "      <td>what tea is that</td>\n",
       "      <td>NaN</td>\n",
       "    </tr>\n",
       "    <tr>\n",
       "      <th>1946</th>\n",
       "      <td>1</td>\n",
       "      <td>☕</td>\n",
       "      <td>NaN</td>\n",
       "    </tr>\n",
       "    <tr>\n",
       "      <th>2260</th>\n",
       "      <td>1</td>\n",
       "      <td>tea</td>\n",
       "      <td>NaN</td>\n",
       "    </tr>\n",
       "    <tr>\n",
       "      <th>2646</th>\n",
       "      <td>1</td>\n",
       "      <td>that is a no</td>\n",
       "      <td>NaN</td>\n",
       "    </tr>\n",
       "    <tr>\n",
       "      <th>3124</th>\n",
       "      <td>1</td>\n",
       "      <td>the tea🍵</td>\n",
       "      <td>NaN</td>\n",
       "    </tr>\n",
       "    <tr>\n",
       "      <th>4267</th>\n",
       "      <td>1</td>\n",
       "      <td>it is what it is</td>\n",
       "      <td>NaN</td>\n",
       "    </tr>\n",
       "    <tr>\n",
       "      <th>4427</th>\n",
       "      <td>1</td>\n",
       "      <td>tea</td>\n",
       "      <td>NaN</td>\n",
       "    </tr>\n",
       "    <tr>\n",
       "      <th>6382</th>\n",
       "      <td>1</td>\n",
       "      <td>as above so below</td>\n",
       "      <td>NaN</td>\n",
       "    </tr>\n",
       "    <tr>\n",
       "      <th>6938</th>\n",
       "      <td>1</td>\n",
       "      <td>is this tea</td>\n",
       "      <td>NaN</td>\n",
       "    </tr>\n",
       "    <tr>\n",
       "      <th>8165</th>\n",
       "      <td>1</td>\n",
       "      <td>🤷‍♂️</td>\n",
       "      <td>NaN</td>\n",
       "    </tr>\n",
       "    <tr>\n",
       "      <th>9223</th>\n",
       "      <td>1</td>\n",
       "      <td>why does my tea do this</td>\n",
       "      <td>NaN</td>\n",
       "    </tr>\n",
       "    <tr>\n",
       "      <th>9291</th>\n",
       "      <td>1</td>\n",
       "      <td>tea</td>\n",
       "      <td>NaN</td>\n",
       "    </tr>\n",
       "    <tr>\n",
       "      <th>9350</th>\n",
       "      <td>1</td>\n",
       "      <td>this is me</td>\n",
       "      <td>NaN</td>\n",
       "    </tr>\n",
       "    <tr>\n",
       "      <th>9648</th>\n",
       "      <td>1</td>\n",
       "      <td>what is this tea</td>\n",
       "      <td>NaN</td>\n",
       "    </tr>\n",
       "    <tr>\n",
       "      <th>11680</th>\n",
       "      <td>0</td>\n",
       "      <td>it’s coffee</td>\n",
       "      <td>NaN</td>\n",
       "    </tr>\n",
       "    <tr>\n",
       "      <th>11682</th>\n",
       "      <td>0</td>\n",
       "      <td>☕️</td>\n",
       "      <td>NaN</td>\n",
       "    </tr>\n",
       "    <tr>\n",
       "      <th>11785</th>\n",
       "      <td>0</td>\n",
       "      <td>coffee</td>\n",
       "      <td>NaN</td>\n",
       "    </tr>\n",
       "    <tr>\n",
       "      <th>12439</th>\n",
       "      <td>0</td>\n",
       "      <td>it is here 😊</td>\n",
       "      <td>NaN</td>\n",
       "    </tr>\n",
       "    <tr>\n",
       "      <th>12817</th>\n",
       "      <td>0</td>\n",
       "      <td>coffee in the ☀️</td>\n",
       "      <td>NaN</td>\n",
       "    </tr>\n",
       "    <tr>\n",
       "      <th>13306</th>\n",
       "      <td>0</td>\n",
       "      <td></td>\n",
       "      <td>NaN</td>\n",
       "    </tr>\n",
       "    <tr>\n",
       "      <th>13367</th>\n",
       "      <td>0</td>\n",
       "      <td>there you have it</td>\n",
       "      <td>NaN</td>\n",
       "    </tr>\n",
       "    <tr>\n",
       "      <th>14135</th>\n",
       "      <td>0</td>\n",
       "      <td>🙄</td>\n",
       "      <td>NaN</td>\n",
       "    </tr>\n",
       "    <tr>\n",
       "      <th>14331</th>\n",
       "      <td>0</td>\n",
       "      <td>🐸🪕🍄</td>\n",
       "      <td>NaN</td>\n",
       "    </tr>\n",
       "    <tr>\n",
       "      <th>14425</th>\n",
       "      <td>0</td>\n",
       "      <td>coffee or coffee</td>\n",
       "      <td>NaN</td>\n",
       "    </tr>\n",
       "    <tr>\n",
       "      <th>14850</th>\n",
       "      <td>0</td>\n",
       "      <td></td>\n",
       "      <td>NaN</td>\n",
       "    </tr>\n",
       "    <tr>\n",
       "      <th>15206</th>\n",
       "      <td>0</td>\n",
       "      <td>coffee coffee coffee coffee coffee coffee coff...</td>\n",
       "      <td>NaN</td>\n",
       "    </tr>\n",
       "    <tr>\n",
       "      <th>15934</th>\n",
       "      <td>0</td>\n",
       "      <td>👆👆👆</td>\n",
       "      <td>NaN</td>\n",
       "    </tr>\n",
       "    <tr>\n",
       "      <th>16121</th>\n",
       "      <td>0</td>\n",
       "      <td>we are not the same</td>\n",
       "      <td>NaN</td>\n",
       "    </tr>\n",
       "    <tr>\n",
       "      <th>16228</th>\n",
       "      <td>0</td>\n",
       "      <td>coffee</td>\n",
       "      <td>NaN</td>\n",
       "    </tr>\n",
       "    <tr>\n",
       "      <th>16240</th>\n",
       "      <td>0</td>\n",
       "      <td>me</td>\n",
       "      <td>NaN</td>\n",
       "    </tr>\n",
       "    <tr>\n",
       "      <th>16448</th>\n",
       "      <td>0</td>\n",
       "      <td>💥💥💥💥</td>\n",
       "      <td>NaN</td>\n",
       "    </tr>\n",
       "    <tr>\n",
       "      <th>16449</th>\n",
       "      <td>0</td>\n",
       "      <td>coffee</td>\n",
       "      <td>NaN</td>\n",
       "    </tr>\n",
       "    <tr>\n",
       "      <th>16585</th>\n",
       "      <td>0</td>\n",
       "      <td>what to do with this</td>\n",
       "      <td>NaN</td>\n",
       "    </tr>\n",
       "    <tr>\n",
       "      <th>16941</th>\n",
       "      <td>0</td>\n",
       "      <td>😋😋😋</td>\n",
       "      <td>NaN</td>\n",
       "    </tr>\n",
       "    <tr>\n",
       "      <th>17338</th>\n",
       "      <td>0</td>\n",
       "      <td>the coffee☕️☕️</td>\n",
       "      <td>NaN</td>\n",
       "    </tr>\n",
       "    <tr>\n",
       "      <th>17536</th>\n",
       "      <td>0</td>\n",
       "      <td></td>\n",
       "      <td>NaN</td>\n",
       "    </tr>\n",
       "    <tr>\n",
       "      <th>17971</th>\n",
       "      <td>0</td>\n",
       "      <td>coffee</td>\n",
       "      <td>NaN</td>\n",
       "    </tr>\n",
       "    <tr>\n",
       "      <th>18243</th>\n",
       "      <td>0</td>\n",
       "      <td>🤓🤓🤓</td>\n",
       "      <td>NaN</td>\n",
       "    </tr>\n",
       "    <tr>\n",
       "      <th>18355</th>\n",
       "      <td>0</td>\n",
       "      <td>coffee it is</td>\n",
       "      <td>NaN</td>\n",
       "    </tr>\n",
       "    <tr>\n",
       "      <th>18375</th>\n",
       "      <td>0</td>\n",
       "      <td></td>\n",
       "      <td>NaN</td>\n",
       "    </tr>\n",
       "    <tr>\n",
       "      <th>19995</th>\n",
       "      <td>0</td>\n",
       "      <td>why  😩</td>\n",
       "      <td>NaN</td>\n",
       "    </tr>\n",
       "    <tr>\n",
       "      <th>20554</th>\n",
       "      <td>0</td>\n",
       "      <td></td>\n",
       "      <td>NaN</td>\n",
       "    </tr>\n",
       "    <tr>\n",
       "      <th>20855</th>\n",
       "      <td>0</td>\n",
       "      <td>what</td>\n",
       "      <td>NaN</td>\n",
       "    </tr>\n",
       "    <tr>\n",
       "      <th>21414</th>\n",
       "      <td>0</td>\n",
       "      <td></td>\n",
       "      <td>NaN</td>\n",
       "    </tr>\n",
       "    <tr>\n",
       "      <th>21417</th>\n",
       "      <td>0</td>\n",
       "      <td>✨😊👌</td>\n",
       "      <td>NaN</td>\n",
       "    </tr>\n",
       "    <tr>\n",
       "      <th>21682</th>\n",
       "      <td>0</td>\n",
       "      <td>that is what i do</td>\n",
       "      <td>NaN</td>\n",
       "    </tr>\n",
       "    <tr>\n",
       "      <th>22132</th>\n",
       "      <td>0</td>\n",
       "      <td>what is this in my coffee</td>\n",
       "      <td>NaN</td>\n",
       "    </tr>\n",
       "    <tr>\n",
       "      <th>22232</th>\n",
       "      <td>0</td>\n",
       "      <td>coffee 🖤</td>\n",
       "      <td>NaN</td>\n",
       "    </tr>\n",
       "    <tr>\n",
       "      <th>22536</th>\n",
       "      <td>0</td>\n",
       "      <td>❤❤</td>\n",
       "      <td>NaN</td>\n",
       "    </tr>\n",
       "    <tr>\n",
       "      <th>22675</th>\n",
       "      <td>0</td>\n",
       "      <td>what is about you</td>\n",
       "      <td>NaN</td>\n",
       "    </tr>\n",
       "    <tr>\n",
       "      <th>22707</th>\n",
       "      <td>0</td>\n",
       "      <td>who did this</td>\n",
       "      <td>NaN</td>\n",
       "    </tr>\n",
       "    <tr>\n",
       "      <th>23439</th>\n",
       "      <td>0</td>\n",
       "      <td>🫂✨</td>\n",
       "      <td>NaN</td>\n",
       "    </tr>\n",
       "    <tr>\n",
       "      <th>24190</th>\n",
       "      <td>0</td>\n",
       "      <td>coffee ☕️</td>\n",
       "      <td>NaN</td>\n",
       "    </tr>\n",
       "    <tr>\n",
       "      <th>24862</th>\n",
       "      <td>0</td>\n",
       "      <td>what is coffee what is coffee to you</td>\n",
       "      <td>NaN</td>\n",
       "    </tr>\n",
       "  </tbody>\n",
       "</table>\n",
       "</div>"
      ],
      "text/plain": [
       "       subreddit                                              title  \\\n",
       "113            1                            what is this on my tea    \n",
       "645            1                                  what tea is that    \n",
       "1946           1                                                 ☕    \n",
       "2260           1                                               tea    \n",
       "2646           1                                      that is a no    \n",
       "3124           1                                          the tea🍵    \n",
       "4267           1                                  it is what it is    \n",
       "4427           1                                              tea     \n",
       "6382           1                                 as above so below    \n",
       "6938           1                                       is this tea    \n",
       "8165           1                                              🤷‍♂️    \n",
       "9223           1                           why does my tea do this    \n",
       "9291           1                                               tea    \n",
       "9350           1                                        this is me    \n",
       "9648           1                                  what is this tea    \n",
       "11680          0                                       it’s coffee    \n",
       "11682          0                                                ☕️    \n",
       "11785          0                                            coffee    \n",
       "12439          0                                      it is here 😊    \n",
       "12817          0                                  coffee in the ☀️    \n",
       "13306          0                                                      \n",
       "13367          0                                 there you have it    \n",
       "14135          0                                                 🙄    \n",
       "14331          0                                               🐸🪕🍄    \n",
       "14425          0                                  coffee or coffee    \n",
       "14850          0                                                      \n",
       "15206          0  coffee coffee coffee coffee coffee coffee coff...   \n",
       "15934          0                                               👆👆👆    \n",
       "16121          0                               we are not the same    \n",
       "16228          0                                            coffee    \n",
       "16240          0                                                me    \n",
       "16448          0                                              💥💥💥💥    \n",
       "16449          0                                           coffee     \n",
       "16585          0                              what to do with this    \n",
       "16941          0                                               😋😋😋    \n",
       "17338          0                                    the coffee☕️☕️    \n",
       "17536          0                                                      \n",
       "17971          0                                            coffee    \n",
       "18243          0                                               🤓🤓🤓    \n",
       "18355          0                                      coffee it is    \n",
       "18375          0                                                      \n",
       "19995          0                                            why  😩    \n",
       "20554          0                                                      \n",
       "20855          0                                              what    \n",
       "21414          0                                                      \n",
       "21417          0                                               ✨😊👌    \n",
       "21682          0                                 that is what i do    \n",
       "22132          0                         what is this in my coffee    \n",
       "22232          0                                          coffee 🖤    \n",
       "22536          0                                                ❤❤    \n",
       "22675          0                                 what is about you    \n",
       "22707          0                                      who did this    \n",
       "23439          0                                                🫂✨    \n",
       "24190          0                                         coffee ☕️    \n",
       "24862          0              what is coffee what is coffee to you    \n",
       "\n",
       "      stemmed_title  \n",
       "113             NaN  \n",
       "645             NaN  \n",
       "1946            NaN  \n",
       "2260            NaN  \n",
       "2646            NaN  \n",
       "3124            NaN  \n",
       "4267            NaN  \n",
       "4427            NaN  \n",
       "6382            NaN  \n",
       "6938            NaN  \n",
       "8165            NaN  \n",
       "9223            NaN  \n",
       "9291            NaN  \n",
       "9350            NaN  \n",
       "9648            NaN  \n",
       "11680           NaN  \n",
       "11682           NaN  \n",
       "11785           NaN  \n",
       "12439           NaN  \n",
       "12817           NaN  \n",
       "13306           NaN  \n",
       "13367           NaN  \n",
       "14135           NaN  \n",
       "14331           NaN  \n",
       "14425           NaN  \n",
       "14850           NaN  \n",
       "15206           NaN  \n",
       "15934           NaN  \n",
       "16121           NaN  \n",
       "16228           NaN  \n",
       "16240           NaN  \n",
       "16448           NaN  \n",
       "16449           NaN  \n",
       "16585           NaN  \n",
       "16941           NaN  \n",
       "17338           NaN  \n",
       "17536           NaN  \n",
       "17971           NaN  \n",
       "18243           NaN  \n",
       "18355           NaN  \n",
       "18375           NaN  \n",
       "19995           NaN  \n",
       "20554           NaN  \n",
       "20855           NaN  \n",
       "21414           NaN  \n",
       "21417           NaN  \n",
       "21682           NaN  \n",
       "22132           NaN  \n",
       "22232           NaN  \n",
       "22536           NaN  \n",
       "22675           NaN  \n",
       "22707           NaN  \n",
       "23439           NaN  \n",
       "24190           NaN  \n",
       "24862           NaN  "
      ]
     },
     "execution_count": 4,
     "metadata": {},
     "output_type": "execute_result"
    }
   ],
   "source": [
    "df.loc[df['stemmed_title'].isnull() , :]"
   ]
  },
  {
   "cell_type": "code",
   "execution_count": 5,
   "id": "e113b1ba-8e21-450d-a732-853bdc00f589",
   "metadata": {},
   "outputs": [],
   "source": [
    "df.dropna(subset=['stemmed_title'], inplace=True)"
   ]
  },
  {
   "cell_type": "code",
   "execution_count": 6,
   "id": "d6454ec6-cd8a-438e-8a66-d37daf76853d",
   "metadata": {},
   "outputs": [
    {
     "name": "stdout",
     "output_type": "stream",
     "text": [
      "<class 'pandas.core.frame.DataFrame'>\n",
      "Int64Index: 24871 entries, 0 to 24925\n",
      "Data columns (total 3 columns):\n",
      " #   Column         Non-Null Count  Dtype \n",
      "---  ------         --------------  ----- \n",
      " 0   subreddit      24871 non-null  int64 \n",
      " 1   title          24871 non-null  object\n",
      " 2   stemmed_title  24871 non-null  object\n",
      "dtypes: int64(1), object(2)\n",
      "memory usage: 777.2+ KB\n"
     ]
    }
   ],
   "source": [
    "df.info()"
   ]
  },
  {
   "cell_type": "markdown",
   "id": "77e5e01f-061a-4f3f-bd55-0d798bfcf591",
   "metadata": {
    "tags": []
   },
   "source": [
    "## Hugging Face"
   ]
  },
  {
   "cell_type": "code",
   "execution_count": 7,
   "id": "376ea4a4-d165-4286-8ed6-2cbd177609f9",
   "metadata": {
    "tags": []
   },
   "outputs": [],
   "source": [
    "# classifier=pipeline(\"sentiment-analysis\",\n",
    "#                     model=\"Seethal/sentiment_analysis_generic_dataset\"\n",
    "#                     )"
   ]
  },
  {
   "cell_type": "code",
   "execution_count": 8,
   "id": "e3e0e0f4-e7e0-4f6f-9d41-1b63ff08d355",
   "metadata": {
    "tags": []
   },
   "outputs": [],
   "source": [
    "# classifier=pipeline(\"sentiment-analysis\",\n",
    "#                     model=\"Seethal/sentiment_analysis_generic_dataset\",\n",
    "#                     tokenizer=\"Seethal/sentiment_analysis_generic_dataset\",\n",
    "#                     max_length=512,\n",
    "#                     truncation=True)"
   ]
  },
  {
   "cell_type": "code",
   "execution_count": 9,
   "id": "1ceb3f8f-2559-4312-8e61-483236f1a1c2",
   "metadata": {},
   "outputs": [
    {
     "name": "stderr",
     "output_type": "stream",
     "text": [
      "All model checkpoint layers were used when initializing TFRobertaForSequenceClassification.\n",
      "\n",
      "All the layers of TFRobertaForSequenceClassification were initialized from the model checkpoint at cardiffnlp/twitter-roberta-base-sentiment.\n",
      "If your task is similar to the task the model of the checkpoint was trained on, you can already use TFRobertaForSequenceClassification for predictions without further training.\n"
     ]
    }
   ],
   "source": [
    "senti_classifier = pipeline(\"sentiment-analysis\",\n",
    "                            model=\"cardiffnlp/twitter-roberta-base-sentiment\",\n",
    "                            max_length=512,\n",
    "                            truncation=True)"
   ]
  },
  {
   "cell_type": "code",
   "execution_count": 10,
   "id": "72a8d710-1548-45ac-8727-a0916d08199d",
   "metadata": {},
   "outputs": [],
   "source": [
    "# Define function to extract sentiments\n",
    "def sentiments(dataset):\n",
    "    dataset['sentiment'] = dataset['title'].apply(senti_classifier)\n",
    "    dataset['sentiments'] = dataset['sentiment'].apply(lambda x: x[0]['label'])\n",
    "    dataset['sentiments'] = dataset['sentiments'].map({'LABEL_0': 'negative', 'LABEL_1': 'neutral', 'LABEL_2': 'positive'})\n",
    "    return dataset"
   ]
  },
  {
   "cell_type": "markdown",
   "id": "91a86824-74d8-4aa5-ba8a-55d38f2dd04b",
   "metadata": {},
   "source": [
    "With the words identified in part 2 of the project, we picked out some of interest to do our sentiment analysis. We also picked out 2000 samples to assess what the public sentiment is towards coffee and tea. There are two sentiment analysis used here, one being twitter-roberta-base-sentiment ([source](https://huggingface.co/cardiffnlp/twitter-roberta-base-sentiment)) and the other being spacy ([source](https://spacy.io/usage/spacy-101)). Apart from the models being trained differently, another difference is that roberta base sentiment has a neutral score which spacy does not have (spacy returns a score which we determine > 0 as a positive sentiment and < 0 as a negative sentiment). "
   ]
  },
  {
   "cell_type": "markdown",
   "id": "fb9265f2-91be-4c8f-bac8-91dcaca60f5d",
   "metadata": {
    "tags": []
   },
   "source": [
    "## Sample Tea Overall"
   ]
  },
  {
   "cell_type": "code",
   "execution_count": 11,
   "id": "06d2e44d-8236-4d57-b9b5-6d74f5dd6840",
   "metadata": {},
   "outputs": [
    {
     "data": {
      "text/html": [
       "<div>\n",
       "<style scoped>\n",
       "    .dataframe tbody tr th:only-of-type {\n",
       "        vertical-align: middle;\n",
       "    }\n",
       "\n",
       "    .dataframe tbody tr th {\n",
       "        vertical-align: top;\n",
       "    }\n",
       "\n",
       "    .dataframe thead th {\n",
       "        text-align: right;\n",
       "    }\n",
       "</style>\n",
       "<table border=\"1\" class=\"dataframe\">\n",
       "  <thead>\n",
       "    <tr style=\"text-align: right;\">\n",
       "      <th></th>\n",
       "      <th>subreddit</th>\n",
       "      <th>title</th>\n",
       "      <th>stemmed_title</th>\n",
       "    </tr>\n",
       "  </thead>\n",
       "  <tbody>\n",
       "    <tr>\n",
       "      <th>0</th>\n",
       "      <td>1</td>\n",
       "      <td>can someone recommend a tea for me my lovely w...</td>\n",
       "      <td>someon recommend love wife drink sloan heavenl...</td>\n",
       "    </tr>\n",
       "    <tr>\n",
       "      <th>1</th>\n",
       "      <td>1</td>\n",
       "      <td>buying chamomile in us i took a look at the ve...</td>\n",
       "      <td>buy chamomil us took look vendor list none cha...</td>\n",
       "    </tr>\n",
       "    <tr>\n",
       "      <th>2</th>\n",
       "      <td>1</td>\n",
       "      <td>is this a good introduction to kamairicha</td>\n",
       "      <td>good introduct kamairicha</td>\n",
       "    </tr>\n",
       "    <tr>\n",
       "      <th>3</th>\n",
       "      <td>1</td>\n",
       "      <td>i was curious about the story on colombian bla...</td>\n",
       "      <td>curiou stori colombian black found answer alth...</td>\n",
       "    </tr>\n",
       "    <tr>\n",
       "      <th>4</th>\n",
       "      <td>1</td>\n",
       "      <td>haul any suggestions on how to brew these teas</td>\n",
       "      <td>haul suggest brew</td>\n",
       "    </tr>\n",
       "    <tr>\n",
       "      <th>...</th>\n",
       "      <td>...</td>\n",
       "      <td>...</td>\n",
       "      <td>...</td>\n",
       "    </tr>\n",
       "    <tr>\n",
       "      <th>11668</th>\n",
       "      <td>1</td>\n",
       "      <td>your favorite tea brands i just moved to a new...</td>\n",
       "      <td>favorit brand move new citi sadli go store pre...</td>\n",
       "    </tr>\n",
       "    <tr>\n",
       "      <th>11669</th>\n",
       "      <td>1</td>\n",
       "      <td>my new ring for my mad hatter cosplay</td>\n",
       "      <td>new ring mad hatter cosplay</td>\n",
       "    </tr>\n",
       "    <tr>\n",
       "      <th>11670</th>\n",
       "      <td>1</td>\n",
       "      <td>yummy tea break</td>\n",
       "      <td>yummi break</td>\n",
       "    </tr>\n",
       "    <tr>\n",
       "      <th>11671</th>\n",
       "      <td>1</td>\n",
       "      <td>do you have some teacups youd love to post abo...</td>\n",
       "      <td>teacup youd love post without worri look love ...</td>\n",
       "    </tr>\n",
       "    <tr>\n",
       "      <th>11672</th>\n",
       "      <td>1</td>\n",
       "      <td>tuesday morning always has awesome flavors to ...</td>\n",
       "      <td>tuesday morn alway awesom flavor tri</td>\n",
       "    </tr>\n",
       "  </tbody>\n",
       "</table>\n",
       "<p>11658 rows × 3 columns</p>\n",
       "</div>"
      ],
      "text/plain": [
       "       subreddit                                              title  \\\n",
       "0              1  can someone recommend a tea for me my lovely w...   \n",
       "1              1  buying chamomile in us i took a look at the ve...   \n",
       "2              1         is this a good introduction to kamairicha    \n",
       "3              1  i was curious about the story on colombian bla...   \n",
       "4              1    haul any suggestions on how to brew these teas    \n",
       "...          ...                                                ...   \n",
       "11668          1  your favorite tea brands i just moved to a new...   \n",
       "11669          1             my new ring for my mad hatter cosplay    \n",
       "11670          1                                   yummy tea break    \n",
       "11671          1  do you have some teacups youd love to post abo...   \n",
       "11672          1  tuesday morning always has awesome flavors to ...   \n",
       "\n",
       "                                           stemmed_title  \n",
       "0      someon recommend love wife drink sloan heavenl...  \n",
       "1      buy chamomil us took look vendor list none cha...  \n",
       "2                              good introduct kamairicha  \n",
       "3      curiou stori colombian black found answer alth...  \n",
       "4                                      haul suggest brew  \n",
       "...                                                  ...  \n",
       "11668  favorit brand move new citi sadli go store pre...  \n",
       "11669                        new ring mad hatter cosplay  \n",
       "11670                                        yummi break  \n",
       "11671  teacup youd love post without worri look love ...  \n",
       "11672               tuesday morn alway awesom flavor tri  \n",
       "\n",
       "[11658 rows x 3 columns]"
      ]
     },
     "execution_count": 11,
     "metadata": {},
     "output_type": "execute_result"
    }
   ],
   "source": [
    "tea_df=df.loc[df['subreddit'] == 1, :]\n",
    "tea_df"
   ]
  },
  {
   "cell_type": "code",
   "execution_count": 12,
   "id": "7ba68b98-e564-45c7-8c2c-6132a45c2814",
   "metadata": {},
   "outputs": [
    {
     "data": {
      "text/plain": [
       "[{'label': 'LABEL_2', 'score': 0.6980944275856018}]"
      ]
     },
     "execution_count": 12,
     "metadata": {},
     "output_type": "execute_result"
    }
   ],
   "source": [
    "senti_classifier('can someone recommend a tea for me my lovely wife')"
   ]
  },
  {
   "cell_type": "code",
   "execution_count": 13,
   "id": "449ba8ec-134c-4dfd-8e05-cccf192835f0",
   "metadata": {},
   "outputs": [],
   "source": [
    "tea_sample_senti = sentiments(tea_df.sample(n=2000, random_state=42))"
   ]
  },
  {
   "cell_type": "code",
   "execution_count": 14,
   "id": "99845631-858a-44fe-824c-cb5fa09d28fa",
   "metadata": {},
   "outputs": [
    {
     "data": {
      "text/html": [
       "<div>\n",
       "<style scoped>\n",
       "    .dataframe tbody tr th:only-of-type {\n",
       "        vertical-align: middle;\n",
       "    }\n",
       "\n",
       "    .dataframe tbody tr th {\n",
       "        vertical-align: top;\n",
       "    }\n",
       "\n",
       "    .dataframe thead th {\n",
       "        text-align: right;\n",
       "    }\n",
       "</style>\n",
       "<table border=\"1\" class=\"dataframe\">\n",
       "  <thead>\n",
       "    <tr style=\"text-align: right;\">\n",
       "      <th></th>\n",
       "      <th>subreddit</th>\n",
       "      <th>title</th>\n",
       "      <th>stemmed_title</th>\n",
       "      <th>sentiment</th>\n",
       "      <th>sentiments</th>\n",
       "    </tr>\n",
       "  </thead>\n",
       "  <tbody>\n",
       "    <tr>\n",
       "      <th>3864</th>\n",
       "      <td>1</td>\n",
       "      <td>tea bringing comfort and joy even in the darke...</td>\n",
       "      <td>bring comfort joy even darkest situat</td>\n",
       "      <td>[{'label': 'LABEL_2', 'score': 0.8959719538688...</td>\n",
       "      <td>positive</td>\n",
       "    </tr>\n",
       "    <tr>\n",
       "      <th>5695</th>\n",
       "      <td>1</td>\n",
       "      <td>i have been on a scone kick ever since my trip...</td>\n",
       "      <td>scone kick ever sinc trip room</td>\n",
       "      <td>[{'label': 'LABEL_1', 'score': 0.6411350369453...</td>\n",
       "      <td>neutral</td>\n",
       "    </tr>\n",
       "    <tr>\n",
       "      <th>8529</th>\n",
       "      <td>1</td>\n",
       "      <td>any decaf oolongs or greens anyone can recomme...</td>\n",
       "      <td>decaf oolong green anyon recommend enjoy bed s...</td>\n",
       "      <td>[{'label': 'LABEL_2', 'score': 0.4960118532180...</td>\n",
       "      <td>positive</td>\n",
       "    </tr>\n",
       "    <tr>\n",
       "      <th>10508</th>\n",
       "      <td>1</td>\n",
       "      <td>a nice oolong to round out the week</td>\n",
       "      <td>nice oolong round week</td>\n",
       "      <td>[{'label': 'LABEL_2', 'score': 0.9107728004455...</td>\n",
       "      <td>positive</td>\n",
       "    </tr>\n",
       "    <tr>\n",
       "      <th>11639</th>\n",
       "      <td>1</td>\n",
       "      <td>2 quick questions 😁 any of you use brita long ...</td>\n",
       "      <td>2 quick question use brita long last like seco...</td>\n",
       "      <td>[{'label': 'LABEL_1', 'score': 0.7153263688087...</td>\n",
       "      <td>neutral</td>\n",
       "    </tr>\n",
       "  </tbody>\n",
       "</table>\n",
       "</div>"
      ],
      "text/plain": [
       "       subreddit                                              title  \\\n",
       "3864           1  tea bringing comfort and joy even in the darke...   \n",
       "5695           1  i have been on a scone kick ever since my trip...   \n",
       "8529           1  any decaf oolongs or greens anyone can recomme...   \n",
       "10508          1               a nice oolong to round out the week    \n",
       "11639          1  2 quick questions 😁 any of you use brita long ...   \n",
       "\n",
       "                                           stemmed_title  \\\n",
       "3864               bring comfort joy even darkest situat   \n",
       "5695                      scone kick ever sinc trip room   \n",
       "8529   decaf oolong green anyon recommend enjoy bed s...   \n",
       "10508                             nice oolong round week   \n",
       "11639  2 quick question use brita long last like seco...   \n",
       "\n",
       "                                               sentiment sentiments  \n",
       "3864   [{'label': 'LABEL_2', 'score': 0.8959719538688...   positive  \n",
       "5695   [{'label': 'LABEL_1', 'score': 0.6411350369453...    neutral  \n",
       "8529   [{'label': 'LABEL_2', 'score': 0.4960118532180...   positive  \n",
       "10508  [{'label': 'LABEL_2', 'score': 0.9107728004455...   positive  \n",
       "11639  [{'label': 'LABEL_1', 'score': 0.7153263688087...    neutral  "
      ]
     },
     "execution_count": 14,
     "metadata": {},
     "output_type": "execute_result"
    }
   ],
   "source": [
    "tea_sample_senti.head()"
   ]
  },
  {
   "cell_type": "code",
   "execution_count": 15,
   "id": "91156b0b-0c56-4a9f-a471-17a90ddaab32",
   "metadata": {},
   "outputs": [
    {
     "data": {
      "text/plain": [
       "neutral     1090\n",
       "positive     709\n",
       "negative     201\n",
       "Name: sentiments, dtype: int64"
      ]
     },
     "execution_count": 15,
     "metadata": {},
     "output_type": "execute_result"
    }
   ],
   "source": [
    "tea_sample_senti['sentiments'].value_counts()"
   ]
  },
  {
   "cell_type": "code",
   "execution_count": 16,
   "id": "113cdcd8-cb88-4a5b-9eb4-eb8afdd7a742",
   "metadata": {},
   "outputs": [
    {
     "data": {
      "text/html": [
       "<div>\n",
       "<style scoped>\n",
       "    .dataframe tbody tr th:only-of-type {\n",
       "        vertical-align: middle;\n",
       "    }\n",
       "\n",
       "    .dataframe tbody tr th {\n",
       "        vertical-align: top;\n",
       "    }\n",
       "\n",
       "    .dataframe thead th {\n",
       "        text-align: right;\n",
       "    }\n",
       "</style>\n",
       "<table border=\"1\" class=\"dataframe\">\n",
       "  <thead>\n",
       "    <tr style=\"text-align: right;\">\n",
       "      <th></th>\n",
       "      <th>sentiments</th>\n",
       "    </tr>\n",
       "  </thead>\n",
       "  <tbody>\n",
       "    <tr>\n",
       "      <th>neutral</th>\n",
       "      <td>1090</td>\n",
       "    </tr>\n",
       "    <tr>\n",
       "      <th>positive</th>\n",
       "      <td>709</td>\n",
       "    </tr>\n",
       "    <tr>\n",
       "      <th>negative</th>\n",
       "      <td>201</td>\n",
       "    </tr>\n",
       "  </tbody>\n",
       "</table>\n",
       "</div>"
      ],
      "text/plain": [
       "          sentiments\n",
       "neutral         1090\n",
       "positive         709\n",
       "negative         201"
      ]
     },
     "execution_count": 16,
     "metadata": {},
     "output_type": "execute_result"
    }
   ],
   "source": [
    "tea_sentiments = pd.DataFrame(tea_sample_senti['sentiments'].value_counts())\n",
    "tea_sentiments"
   ]
  },
  {
   "cell_type": "markdown",
   "id": "9ac99f1f-f86c-4284-ad55-a6a0924d2897",
   "metadata": {
    "tags": []
   },
   "source": [
    "## Interested words in tea"
   ]
  },
  {
   "cell_type": "code",
   "execution_count": 17,
   "id": "0ee584e2-0db7-411f-9400-487c7973b23a",
   "metadata": {},
   "outputs": [],
   "source": [
    "tea_green_tea = tea_df[tea_df['title'].str.contains('green tea')]\n",
    "tea_green_tea = tea_green_tea.copy()\n",
    "\n",
    "tea_earl_grey = tea_df[tea_df['title'].str.contains('earl grey tea')]\n",
    "tea_earl_grey = tea_earl_grey.copy()\n",
    "\n",
    "tea_tie_guan_yin = tea_df[tea_df['title'].str.contains('tie guan yin')]\n",
    "tea_tie_guan_yin = tea_tie_guan_yin.copy()\n",
    "\n",
    "tea_black = tea_df[tea_df['title'].str.contains('black tea')]\n",
    "tea_black = tea_black.copy()"
   ]
  },
  {
   "cell_type": "code",
   "execution_count": 18,
   "id": "61236cf9-8b8b-4849-b9bf-96784cb2d3e3",
   "metadata": {},
   "outputs": [
    {
     "data": {
      "text/plain": [
       "(832, 3)"
      ]
     },
     "execution_count": 18,
     "metadata": {},
     "output_type": "execute_result"
    }
   ],
   "source": [
    "tea_green_tea.shape"
   ]
  },
  {
   "cell_type": "code",
   "execution_count": 19,
   "id": "f013919b-15f8-4129-b4b4-580d435e6fe0",
   "metadata": {},
   "outputs": [
    {
     "data": {
      "text/plain": [
       "(36, 3)"
      ]
     },
     "execution_count": 19,
     "metadata": {},
     "output_type": "execute_result"
    }
   ],
   "source": [
    "tea_earl_grey.shape"
   ]
  },
  {
   "cell_type": "code",
   "execution_count": 20,
   "id": "a66fb99e-5d30-4845-8e16-38f212cb02b9",
   "metadata": {},
   "outputs": [
    {
     "data": {
      "text/plain": [
       "(46, 3)"
      ]
     },
     "execution_count": 20,
     "metadata": {},
     "output_type": "execute_result"
    }
   ],
   "source": [
    "tea_tie_guan_yin.shape"
   ]
  },
  {
   "cell_type": "code",
   "execution_count": 21,
   "id": "a551361f-feab-4fc7-b733-235ad4ad264e",
   "metadata": {},
   "outputs": [
    {
     "data": {
      "text/plain": [
       "(713, 3)"
      ]
     },
     "execution_count": 21,
     "metadata": {},
     "output_type": "execute_result"
    }
   ],
   "source": [
    "tea_black.shape"
   ]
  },
  {
   "cell_type": "markdown",
   "id": "674a4380-8cbe-42e4-83fb-b6f569d20f62",
   "metadata": {
    "tags": []
   },
   "source": [
    "## Green Tea"
   ]
  },
  {
   "cell_type": "code",
   "execution_count": 22,
   "id": "9f12b2c3-f068-47d9-8dcb-3402e814ffd2",
   "metadata": {},
   "outputs": [],
   "source": [
    "green_tea_senti = sentiments(tea_green_tea)"
   ]
  },
  {
   "cell_type": "code",
   "execution_count": 23,
   "id": "8e2b0d9d-34f2-4c92-a6a1-1589f1a98c6f",
   "metadata": {},
   "outputs": [
    {
     "data": {
      "text/html": [
       "<div>\n",
       "<style scoped>\n",
       "    .dataframe tbody tr th:only-of-type {\n",
       "        vertical-align: middle;\n",
       "    }\n",
       "\n",
       "    .dataframe tbody tr th {\n",
       "        vertical-align: top;\n",
       "    }\n",
       "\n",
       "    .dataframe thead th {\n",
       "        text-align: right;\n",
       "    }\n",
       "</style>\n",
       "<table border=\"1\" class=\"dataframe\">\n",
       "  <thead>\n",
       "    <tr style=\"text-align: right;\">\n",
       "      <th></th>\n",
       "      <th>subreddit</th>\n",
       "      <th>title</th>\n",
       "      <th>stemmed_title</th>\n",
       "      <th>sentiment</th>\n",
       "      <th>sentiments</th>\n",
       "    </tr>\n",
       "  </thead>\n",
       "  <tbody>\n",
       "    <tr>\n",
       "      <th>10</th>\n",
       "      <td>1</td>\n",
       "      <td>is this a good introduction to chinese green t...</td>\n",
       "      <td>good introduct chines green</td>\n",
       "      <td>[{'label': 'LABEL_1', 'score': 0.6991882324218...</td>\n",
       "      <td>neutral</td>\n",
       "    </tr>\n",
       "    <tr>\n",
       "      <th>25</th>\n",
       "      <td>1</td>\n",
       "      <td>is the caffeine in matcha absorbed differently...</td>\n",
       "      <td>caffein matcha absorb differ usual drink caffe...</td>\n",
       "      <td>[{'label': 'LABEL_0', 'score': 0.8034375309944...</td>\n",
       "      <td>negative</td>\n",
       "    </tr>\n",
       "    <tr>\n",
       "      <th>56</th>\n",
       "      <td>1</td>\n",
       "      <td>alternatives to shincha spring harvest japanes...</td>\n",
       "      <td>altern shincha spring harvest japanes green he...</td>\n",
       "      <td>[{'label': 'LABEL_2', 'score': 0.7693625092506...</td>\n",
       "      <td>positive</td>\n",
       "    </tr>\n",
       "    <tr>\n",
       "      <th>71</th>\n",
       "      <td>1</td>\n",
       "      <td>thanks for the reminder i’m primarily a coffee...</td>\n",
       "      <td>thank remind primarili drinker drink lot late ...</td>\n",
       "      <td>[{'label': 'LABEL_1', 'score': 0.3819150030612...</td>\n",
       "      <td>neutral</td>\n",
       "    </tr>\n",
       "    <tr>\n",
       "      <th>84</th>\n",
       "      <td>1</td>\n",
       "      <td>alternatives to tea i have trouble drinking te...</td>\n",
       "      <td>altern troubl drink realli overstimul point ti...</td>\n",
       "      <td>[{'label': 'LABEL_0', 'score': 0.7013951539993...</td>\n",
       "      <td>negative</td>\n",
       "    </tr>\n",
       "  </tbody>\n",
       "</table>\n",
       "</div>"
      ],
      "text/plain": [
       "    subreddit                                              title  \\\n",
       "10          1  is this a good introduction to chinese green t...   \n",
       "25          1  is the caffeine in matcha absorbed differently...   \n",
       "56          1  alternatives to shincha spring harvest japanes...   \n",
       "71          1  thanks for the reminder i’m primarily a coffee...   \n",
       "84          1  alternatives to tea i have trouble drinking te...   \n",
       "\n",
       "                                        stemmed_title  \\\n",
       "10                        good introduct chines green   \n",
       "25  caffein matcha absorb differ usual drink caffe...   \n",
       "56  altern shincha spring harvest japanes green he...   \n",
       "71  thank remind primarili drinker drink lot late ...   \n",
       "84  altern troubl drink realli overstimul point ti...   \n",
       "\n",
       "                                            sentiment sentiments  \n",
       "10  [{'label': 'LABEL_1', 'score': 0.6991882324218...    neutral  \n",
       "25  [{'label': 'LABEL_0', 'score': 0.8034375309944...   negative  \n",
       "56  [{'label': 'LABEL_2', 'score': 0.7693625092506...   positive  \n",
       "71  [{'label': 'LABEL_1', 'score': 0.3819150030612...    neutral  \n",
       "84  [{'label': 'LABEL_0', 'score': 0.7013951539993...   negative  "
      ]
     },
     "execution_count": 23,
     "metadata": {},
     "output_type": "execute_result"
    }
   ],
   "source": [
    "green_tea_senti.head()"
   ]
  },
  {
   "cell_type": "code",
   "execution_count": 24,
   "id": "f6b5471a-78dc-4e5c-8087-33ab5571e1af",
   "metadata": {},
   "outputs": [
    {
     "data": {
      "text/plain": [
       "neutral     359\n",
       "positive    352\n",
       "negative    121\n",
       "Name: sentiments, dtype: int64"
      ]
     },
     "execution_count": 24,
     "metadata": {},
     "output_type": "execute_result"
    }
   ],
   "source": [
    "green_tea_senti['sentiments'].value_counts()"
   ]
  },
  {
   "cell_type": "code",
   "execution_count": 25,
   "id": "f11c46aa-213a-492c-8920-bfb9d60028a2",
   "metadata": {},
   "outputs": [
    {
     "data": {
      "text/html": [
       "<div>\n",
       "<style scoped>\n",
       "    .dataframe tbody tr th:only-of-type {\n",
       "        vertical-align: middle;\n",
       "    }\n",
       "\n",
       "    .dataframe tbody tr th {\n",
       "        vertical-align: top;\n",
       "    }\n",
       "\n",
       "    .dataframe thead th {\n",
       "        text-align: right;\n",
       "    }\n",
       "</style>\n",
       "<table border=\"1\" class=\"dataframe\">\n",
       "  <thead>\n",
       "    <tr style=\"text-align: right;\">\n",
       "      <th></th>\n",
       "      <th>sentiments</th>\n",
       "    </tr>\n",
       "  </thead>\n",
       "  <tbody>\n",
       "    <tr>\n",
       "      <th>neutral</th>\n",
       "      <td>359</td>\n",
       "    </tr>\n",
       "    <tr>\n",
       "      <th>positive</th>\n",
       "      <td>352</td>\n",
       "    </tr>\n",
       "    <tr>\n",
       "      <th>negative</th>\n",
       "      <td>121</td>\n",
       "    </tr>\n",
       "  </tbody>\n",
       "</table>\n",
       "</div>"
      ],
      "text/plain": [
       "          sentiments\n",
       "neutral          359\n",
       "positive         352\n",
       "negative         121"
      ]
     },
     "execution_count": 25,
     "metadata": {},
     "output_type": "execute_result"
    }
   ],
   "source": [
    "green_tea_sentiments = pd.DataFrame(green_tea_senti['sentiments'].value_counts())\n",
    "green_tea_sentiments"
   ]
  },
  {
   "cell_type": "markdown",
   "id": "4588c4aa-27ce-4f91-8c1f-d54d38f5724e",
   "metadata": {
    "tags": []
   },
   "source": [
    "## Earl Grey Tea"
   ]
  },
  {
   "cell_type": "code",
   "execution_count": 26,
   "id": "f65fada1-0d4a-4def-8d98-c077eb3952ae",
   "metadata": {},
   "outputs": [],
   "source": [
    "earl_grey_senti = sentiments(tea_earl_grey)"
   ]
  },
  {
   "cell_type": "code",
   "execution_count": 27,
   "id": "1c0e42fc-fd25-4838-bf17-4288d7788ce0",
   "metadata": {},
   "outputs": [
    {
     "data": {
      "text/html": [
       "<div>\n",
       "<style scoped>\n",
       "    .dataframe tbody tr th:only-of-type {\n",
       "        vertical-align: middle;\n",
       "    }\n",
       "\n",
       "    .dataframe tbody tr th {\n",
       "        vertical-align: top;\n",
       "    }\n",
       "\n",
       "    .dataframe thead th {\n",
       "        text-align: right;\n",
       "    }\n",
       "</style>\n",
       "<table border=\"1\" class=\"dataframe\">\n",
       "  <thead>\n",
       "    <tr style=\"text-align: right;\">\n",
       "      <th></th>\n",
       "      <th>subreddit</th>\n",
       "      <th>title</th>\n",
       "      <th>stemmed_title</th>\n",
       "      <th>sentiment</th>\n",
       "      <th>sentiments</th>\n",
       "    </tr>\n",
       "  </thead>\n",
       "  <tbody>\n",
       "    <tr>\n",
       "      <th>141</th>\n",
       "      <td>1</td>\n",
       "      <td>earl grey tea in afternoon is earl grey consid...</td>\n",
       "      <td>earl grey afternoon earl grey consid afternoon...</td>\n",
       "      <td>[{'label': 'LABEL_1', 'score': 0.9283571243286...</td>\n",
       "      <td>neutral</td>\n",
       "    </tr>\n",
       "    <tr>\n",
       "      <th>468</th>\n",
       "      <td>1</td>\n",
       "      <td>loose leaf earl grey tea recommendations i am ...</td>\n",
       "      <td>loos leaf earl grey recommend finish box twin ...</td>\n",
       "      <td>[{'label': 'LABEL_0', 'score': 0.8306356072425...</td>\n",
       "      <td>negative</td>\n",
       "    </tr>\n",
       "    <tr>\n",
       "      <th>1179</th>\n",
       "      <td>1</td>\n",
       "      <td>how can i fix my weak earl grey i love earl gr...</td>\n",
       "      <td>fix weak earl grey love earl grey drink everi ...</td>\n",
       "      <td>[{'label': 'LABEL_0', 'score': 0.7725271582603...</td>\n",
       "      <td>negative</td>\n",
       "    </tr>\n",
       "    <tr>\n",
       "      <th>1858</th>\n",
       "      <td>1</td>\n",
       "      <td>earl grey tea  peach 🍑</td>\n",
       "      <td>earl grey peach</td>\n",
       "      <td>[{'label': 'LABEL_1', 'score': 0.7264797687530...</td>\n",
       "      <td>neutral</td>\n",
       "    </tr>\n",
       "    <tr>\n",
       "      <th>1919</th>\n",
       "      <td>1</td>\n",
       "      <td>help me find a french earl grey tea like this ...</td>\n",
       "      <td>help find french earl grey like australia firs...</td>\n",
       "      <td>[{'label': 'LABEL_0', 'score': 0.4266401827335...</td>\n",
       "      <td>negative</td>\n",
       "    </tr>\n",
       "  </tbody>\n",
       "</table>\n",
       "</div>"
      ],
      "text/plain": [
       "      subreddit                                              title  \\\n",
       "141           1  earl grey tea in afternoon is earl grey consid...   \n",
       "468           1  loose leaf earl grey tea recommendations i am ...   \n",
       "1179          1  how can i fix my weak earl grey i love earl gr...   \n",
       "1858          1                            earl grey tea  peach 🍑    \n",
       "1919          1  help me find a french earl grey tea like this ...   \n",
       "\n",
       "                                          stemmed_title  \\\n",
       "141   earl grey afternoon earl grey consid afternoon...   \n",
       "468   loos leaf earl grey recommend finish box twin ...   \n",
       "1179  fix weak earl grey love earl grey drink everi ...   \n",
       "1858                                    earl grey peach   \n",
       "1919  help find french earl grey like australia firs...   \n",
       "\n",
       "                                              sentiment sentiments  \n",
       "141   [{'label': 'LABEL_1', 'score': 0.9283571243286...    neutral  \n",
       "468   [{'label': 'LABEL_0', 'score': 0.8306356072425...   negative  \n",
       "1179  [{'label': 'LABEL_0', 'score': 0.7725271582603...   negative  \n",
       "1858  [{'label': 'LABEL_1', 'score': 0.7264797687530...    neutral  \n",
       "1919  [{'label': 'LABEL_0', 'score': 0.4266401827335...   negative  "
      ]
     },
     "execution_count": 27,
     "metadata": {},
     "output_type": "execute_result"
    }
   ],
   "source": [
    "earl_grey_senti.head()"
   ]
  },
  {
   "cell_type": "code",
   "execution_count": 28,
   "id": "a1d03218-04a4-4034-b02f-f4c58ebe4753",
   "metadata": {},
   "outputs": [
    {
     "data": {
      "text/plain": [
       "neutral     16\n",
       "positive    14\n",
       "negative     6\n",
       "Name: sentiments, dtype: int64"
      ]
     },
     "execution_count": 28,
     "metadata": {},
     "output_type": "execute_result"
    }
   ],
   "source": [
    "earl_grey_senti['sentiments'].value_counts()"
   ]
  },
  {
   "cell_type": "code",
   "execution_count": 29,
   "id": "76be945c-ab1e-426c-8484-63454cac708c",
   "metadata": {},
   "outputs": [
    {
     "data": {
      "text/html": [
       "<div>\n",
       "<style scoped>\n",
       "    .dataframe tbody tr th:only-of-type {\n",
       "        vertical-align: middle;\n",
       "    }\n",
       "\n",
       "    .dataframe tbody tr th {\n",
       "        vertical-align: top;\n",
       "    }\n",
       "\n",
       "    .dataframe thead th {\n",
       "        text-align: right;\n",
       "    }\n",
       "</style>\n",
       "<table border=\"1\" class=\"dataframe\">\n",
       "  <thead>\n",
       "    <tr style=\"text-align: right;\">\n",
       "      <th></th>\n",
       "      <th>sentiments</th>\n",
       "    </tr>\n",
       "  </thead>\n",
       "  <tbody>\n",
       "    <tr>\n",
       "      <th>neutral</th>\n",
       "      <td>16</td>\n",
       "    </tr>\n",
       "    <tr>\n",
       "      <th>positive</th>\n",
       "      <td>14</td>\n",
       "    </tr>\n",
       "    <tr>\n",
       "      <th>negative</th>\n",
       "      <td>6</td>\n",
       "    </tr>\n",
       "  </tbody>\n",
       "</table>\n",
       "</div>"
      ],
      "text/plain": [
       "          sentiments\n",
       "neutral           16\n",
       "positive          14\n",
       "negative           6"
      ]
     },
     "execution_count": 29,
     "metadata": {},
     "output_type": "execute_result"
    }
   ],
   "source": [
    "earl_grey_sentiments = pd.DataFrame(earl_grey_senti['sentiments'].value_counts())\n",
    "earl_grey_sentiments"
   ]
  },
  {
   "cell_type": "markdown",
   "id": "5f727c1e-f711-4987-b567-7b2bef84bd13",
   "metadata": {
    "tags": []
   },
   "source": [
    "## Tie Guan Yin"
   ]
  },
  {
   "cell_type": "code",
   "execution_count": 30,
   "id": "250f3589-15d5-4ff8-b874-59324bbb99ec",
   "metadata": {},
   "outputs": [],
   "source": [
    "tgy_senti = sentiments(tea_tie_guan_yin)"
   ]
  },
  {
   "cell_type": "code",
   "execution_count": 31,
   "id": "f5d98ad2-79ec-4d91-8c9a-684f7890d8d7",
   "metadata": {},
   "outputs": [
    {
     "data": {
      "text/html": [
       "<div>\n",
       "<style scoped>\n",
       "    .dataframe tbody tr th:only-of-type {\n",
       "        vertical-align: middle;\n",
       "    }\n",
       "\n",
       "    .dataframe tbody tr th {\n",
       "        vertical-align: top;\n",
       "    }\n",
       "\n",
       "    .dataframe thead th {\n",
       "        text-align: right;\n",
       "    }\n",
       "</style>\n",
       "<table border=\"1\" class=\"dataframe\">\n",
       "  <thead>\n",
       "    <tr style=\"text-align: right;\">\n",
       "      <th></th>\n",
       "      <th>subreddit</th>\n",
       "      <th>title</th>\n",
       "      <th>stemmed_title</th>\n",
       "      <th>sentiment</th>\n",
       "      <th>sentiments</th>\n",
       "    </tr>\n",
       "  </thead>\n",
       "  <tbody>\n",
       "    <tr>\n",
       "      <th>419</th>\n",
       "      <td>1</td>\n",
       "      <td>anxi tie guan yin</td>\n",
       "      <td>anxi tie guan yin</td>\n",
       "      <td>[{'label': 'LABEL_1', 'score': 0.7665809988975...</td>\n",
       "      <td>neutral</td>\n",
       "    </tr>\n",
       "    <tr>\n",
       "      <th>562</th>\n",
       "      <td>1</td>\n",
       "      <td>happy mid autumn festival celebrating it with ...</td>\n",
       "      <td>happi mid autumn festiv celebr homemad moon ca...</td>\n",
       "      <td>[{'label': 'LABEL_2', 'score': 0.9662119746208...</td>\n",
       "      <td>positive</td>\n",
       "    </tr>\n",
       "    <tr>\n",
       "      <th>1257</th>\n",
       "      <td>1</td>\n",
       "      <td>test driving some vintage sea dyke shui xian i...</td>\n",
       "      <td>test drive vintag sea dyke shui xian bad came ...</td>\n",
       "      <td>[{'label': 'LABEL_2', 'score': 0.4865322411060...</td>\n",
       "      <td>positive</td>\n",
       "    </tr>\n",
       "    <tr>\n",
       "      <th>1320</th>\n",
       "      <td>1</td>\n",
       "      <td>is their no place for the sour tie guan yin i ...</td>\n",
       "      <td>place sour tie guan yin tri mei leaf sour sap ...</td>\n",
       "      <td>[{'label': 'LABEL_0', 'score': 0.7389737367630...</td>\n",
       "      <td>negative</td>\n",
       "    </tr>\n",
       "    <tr>\n",
       "      <th>1321</th>\n",
       "      <td>1</td>\n",
       "      <td>taiwan tie guan yin oolong</td>\n",
       "      <td>taiwan tie guan yin oolong</td>\n",
       "      <td>[{'label': 'LABEL_1', 'score': 0.7894954085350...</td>\n",
       "      <td>neutral</td>\n",
       "    </tr>\n",
       "  </tbody>\n",
       "</table>\n",
       "</div>"
      ],
      "text/plain": [
       "      subreddit                                              title  \\\n",
       "419           1                                 anxi tie guan yin    \n",
       "562           1  happy mid autumn festival celebrating it with ...   \n",
       "1257          1  test driving some vintage sea dyke shui xian i...   \n",
       "1320          1  is their no place for the sour tie guan yin i ...   \n",
       "1321          1                        taiwan tie guan yin oolong    \n",
       "\n",
       "                                          stemmed_title  \\\n",
       "419                                   anxi tie guan yin   \n",
       "562   happi mid autumn festiv celebr homemad moon ca...   \n",
       "1257  test drive vintag sea dyke shui xian bad came ...   \n",
       "1320  place sour tie guan yin tri mei leaf sour sap ...   \n",
       "1321                         taiwan tie guan yin oolong   \n",
       "\n",
       "                                              sentiment sentiments  \n",
       "419   [{'label': 'LABEL_1', 'score': 0.7665809988975...    neutral  \n",
       "562   [{'label': 'LABEL_2', 'score': 0.9662119746208...   positive  \n",
       "1257  [{'label': 'LABEL_2', 'score': 0.4865322411060...   positive  \n",
       "1320  [{'label': 'LABEL_0', 'score': 0.7389737367630...   negative  \n",
       "1321  [{'label': 'LABEL_1', 'score': 0.7894954085350...    neutral  "
      ]
     },
     "execution_count": 31,
     "metadata": {},
     "output_type": "execute_result"
    }
   ],
   "source": [
    "tgy_senti.head()"
   ]
  },
  {
   "cell_type": "code",
   "execution_count": 32,
   "id": "28865dd2-1b07-4ec3-96af-a888a89a71d0",
   "metadata": {},
   "outputs": [
    {
     "data": {
      "text/plain": [
       "neutral     27\n",
       "positive    18\n",
       "negative     1\n",
       "Name: sentiments, dtype: int64"
      ]
     },
     "execution_count": 32,
     "metadata": {},
     "output_type": "execute_result"
    }
   ],
   "source": [
    "tgy_senti['sentiments'].value_counts()"
   ]
  },
  {
   "cell_type": "code",
   "execution_count": 33,
   "id": "2b2dd221-6bb1-45b2-b278-5182e53fb906",
   "metadata": {},
   "outputs": [
    {
     "data": {
      "text/html": [
       "<div>\n",
       "<style scoped>\n",
       "    .dataframe tbody tr th:only-of-type {\n",
       "        vertical-align: middle;\n",
       "    }\n",
       "\n",
       "    .dataframe tbody tr th {\n",
       "        vertical-align: top;\n",
       "    }\n",
       "\n",
       "    .dataframe thead th {\n",
       "        text-align: right;\n",
       "    }\n",
       "</style>\n",
       "<table border=\"1\" class=\"dataframe\">\n",
       "  <thead>\n",
       "    <tr style=\"text-align: right;\">\n",
       "      <th></th>\n",
       "      <th>sentiments</th>\n",
       "    </tr>\n",
       "  </thead>\n",
       "  <tbody>\n",
       "    <tr>\n",
       "      <th>neutral</th>\n",
       "      <td>27</td>\n",
       "    </tr>\n",
       "    <tr>\n",
       "      <th>positive</th>\n",
       "      <td>18</td>\n",
       "    </tr>\n",
       "    <tr>\n",
       "      <th>negative</th>\n",
       "      <td>1</td>\n",
       "    </tr>\n",
       "  </tbody>\n",
       "</table>\n",
       "</div>"
      ],
      "text/plain": [
       "          sentiments\n",
       "neutral           27\n",
       "positive          18\n",
       "negative           1"
      ]
     },
     "execution_count": 33,
     "metadata": {},
     "output_type": "execute_result"
    }
   ],
   "source": [
    "tgy_sentiments = pd.DataFrame(tgy_senti['sentiments'].value_counts())\n",
    "tgy_sentiments"
   ]
  },
  {
   "cell_type": "markdown",
   "id": "168a4c70-298c-4f56-a37b-5708d5b7e96f",
   "metadata": {
    "tags": []
   },
   "source": [
    "## Black Tea"
   ]
  },
  {
   "cell_type": "code",
   "execution_count": 34,
   "id": "cf106581-2472-49a0-b257-cf736c98798b",
   "metadata": {},
   "outputs": [],
   "source": [
    "black_tea_senti = sentiments(tea_black)"
   ]
  },
  {
   "cell_type": "code",
   "execution_count": 35,
   "id": "b75a5acb-9516-4205-97b9-2ce27dad35af",
   "metadata": {},
   "outputs": [
    {
     "data": {
      "text/html": [
       "<div>\n",
       "<style scoped>\n",
       "    .dataframe tbody tr th:only-of-type {\n",
       "        vertical-align: middle;\n",
       "    }\n",
       "\n",
       "    .dataframe tbody tr th {\n",
       "        vertical-align: top;\n",
       "    }\n",
       "\n",
       "    .dataframe thead th {\n",
       "        text-align: right;\n",
       "    }\n",
       "</style>\n",
       "<table border=\"1\" class=\"dataframe\">\n",
       "  <thead>\n",
       "    <tr style=\"text-align: right;\">\n",
       "      <th></th>\n",
       "      <th>subreddit</th>\n",
       "      <th>title</th>\n",
       "      <th>stemmed_title</th>\n",
       "      <th>sentiment</th>\n",
       "      <th>sentiments</th>\n",
       "    </tr>\n",
       "  </thead>\n",
       "  <tbody>\n",
       "    <tr>\n",
       "      <th>3</th>\n",
       "      <td>1</td>\n",
       "      <td>i was curious about the story on colombian bla...</td>\n",
       "      <td>curiou stori colombian black found answer alth...</td>\n",
       "      <td>[{'label': 'LABEL_1', 'score': 0.5055576562881...</td>\n",
       "      <td>neutral</td>\n",
       "    </tr>\n",
       "    <tr>\n",
       "      <th>8</th>\n",
       "      <td>1</td>\n",
       "      <td>hypersensitivity allergy to teas developing ov...</td>\n",
       "      <td>hypersensit allergi develop year anyon els exp...</td>\n",
       "      <td>[{'label': 'LABEL_0', 'score': 0.7761902213096...</td>\n",
       "      <td>negative</td>\n",
       "    </tr>\n",
       "    <tr>\n",
       "      <th>25</th>\n",
       "      <td>1</td>\n",
       "      <td>is the caffeine in matcha absorbed differently...</td>\n",
       "      <td>caffein matcha absorb differ usual drink caffe...</td>\n",
       "      <td>[{'label': 'LABEL_0', 'score': 0.8034375309944...</td>\n",
       "      <td>negative</td>\n",
       "    </tr>\n",
       "    <tr>\n",
       "      <th>41</th>\n",
       "      <td>1</td>\n",
       "      <td>what black tea is used the most in earl grey b...</td>\n",
       "      <td>black use earl grey blend</td>\n",
       "      <td>[{'label': 'LABEL_1', 'score': 0.9118570685386...</td>\n",
       "      <td>neutral</td>\n",
       "    </tr>\n",
       "    <tr>\n",
       "      <th>47</th>\n",
       "      <td>1</td>\n",
       "      <td>i made a little blend of some scottish made bl...</td>\n",
       "      <td>made littl blend scottish made black lavend ro...</td>\n",
       "      <td>[{'label': 'LABEL_1', 'score': 0.7252510786056...</td>\n",
       "      <td>neutral</td>\n",
       "    </tr>\n",
       "  </tbody>\n",
       "</table>\n",
       "</div>"
      ],
      "text/plain": [
       "    subreddit                                              title  \\\n",
       "3           1  i was curious about the story on colombian bla...   \n",
       "8           1  hypersensitivity allergy to teas developing ov...   \n",
       "25          1  is the caffeine in matcha absorbed differently...   \n",
       "41          1  what black tea is used the most in earl grey b...   \n",
       "47          1  i made a little blend of some scottish made bl...   \n",
       "\n",
       "                                        stemmed_title  \\\n",
       "3   curiou stori colombian black found answer alth...   \n",
       "8   hypersensit allergi develop year anyon els exp...   \n",
       "25  caffein matcha absorb differ usual drink caffe...   \n",
       "41                          black use earl grey blend   \n",
       "47  made littl blend scottish made black lavend ro...   \n",
       "\n",
       "                                            sentiment sentiments  \n",
       "3   [{'label': 'LABEL_1', 'score': 0.5055576562881...    neutral  \n",
       "8   [{'label': 'LABEL_0', 'score': 0.7761902213096...   negative  \n",
       "25  [{'label': 'LABEL_0', 'score': 0.8034375309944...   negative  \n",
       "41  [{'label': 'LABEL_1', 'score': 0.9118570685386...    neutral  \n",
       "47  [{'label': 'LABEL_1', 'score': 0.7252510786056...    neutral  "
      ]
     },
     "execution_count": 35,
     "metadata": {},
     "output_type": "execute_result"
    }
   ],
   "source": [
    "black_tea_senti.head()"
   ]
  },
  {
   "cell_type": "code",
   "execution_count": 36,
   "id": "28eb25d4-b62a-45bf-be50-e4f8fc94122e",
   "metadata": {},
   "outputs": [
    {
     "data": {
      "text/plain": [
       "neutral     313\n",
       "positive    303\n",
       "negative     97\n",
       "Name: sentiments, dtype: int64"
      ]
     },
     "execution_count": 36,
     "metadata": {},
     "output_type": "execute_result"
    }
   ],
   "source": [
    "black_tea_senti['sentiments'].value_counts()"
   ]
  },
  {
   "cell_type": "code",
   "execution_count": 37,
   "id": "c1e0a5d7-f270-4135-815d-8dbe4bab10b3",
   "metadata": {},
   "outputs": [
    {
     "data": {
      "text/html": [
       "<div>\n",
       "<style scoped>\n",
       "    .dataframe tbody tr th:only-of-type {\n",
       "        vertical-align: middle;\n",
       "    }\n",
       "\n",
       "    .dataframe tbody tr th {\n",
       "        vertical-align: top;\n",
       "    }\n",
       "\n",
       "    .dataframe thead th {\n",
       "        text-align: right;\n",
       "    }\n",
       "</style>\n",
       "<table border=\"1\" class=\"dataframe\">\n",
       "  <thead>\n",
       "    <tr style=\"text-align: right;\">\n",
       "      <th></th>\n",
       "      <th>sentiments</th>\n",
       "    </tr>\n",
       "  </thead>\n",
       "  <tbody>\n",
       "    <tr>\n",
       "      <th>neutral</th>\n",
       "      <td>313</td>\n",
       "    </tr>\n",
       "    <tr>\n",
       "      <th>positive</th>\n",
       "      <td>303</td>\n",
       "    </tr>\n",
       "    <tr>\n",
       "      <th>negative</th>\n",
       "      <td>97</td>\n",
       "    </tr>\n",
       "  </tbody>\n",
       "</table>\n",
       "</div>"
      ],
      "text/plain": [
       "          sentiments\n",
       "neutral          313\n",
       "positive         303\n",
       "negative          97"
      ]
     },
     "execution_count": 37,
     "metadata": {},
     "output_type": "execute_result"
    }
   ],
   "source": [
    "black_tea_sentiments = pd.DataFrame(black_tea_senti['sentiments'].value_counts())\n",
    "black_tea_sentiments"
   ]
  },
  {
   "cell_type": "markdown",
   "id": "6c50ccad-46d3-4437-887f-726a69c4e82f",
   "metadata": {
    "tags": []
   },
   "source": [
    "## Compare with spacy"
   ]
  },
  {
   "cell_type": "code",
   "execution_count": 38,
   "id": "31f076e2-c92e-4954-becf-d6fe3c58c462",
   "metadata": {},
   "outputs": [],
   "source": [
    "import spacy\n",
    "from spacytextblob.spacytextblob import SpacyTextBlob"
   ]
  },
  {
   "cell_type": "code",
   "execution_count": 39,
   "id": "edec639b-a28d-49ef-bd45-0f8c949a9ce8",
   "metadata": {},
   "outputs": [
    {
     "data": {
      "text/plain": [
       "<spacytextblob.spacytextblob.SpacyTextBlob at 0x20e5f0b2c70>"
      ]
     },
     "execution_count": 39,
     "metadata": {},
     "output_type": "execute_result"
    }
   ],
   "source": [
    "nlp = spacy.load('en_core_web_sm')\n",
    "nlp.add_pipe('spacytextblob')"
   ]
  },
  {
   "cell_type": "code",
   "execution_count": 40,
   "id": "e293aa98-6599-411b-a86e-059af96da0e8",
   "metadata": {},
   "outputs": [],
   "source": [
    "tea_df_spacy = tea_df.sample(n=2000, random_state=42)"
   ]
  },
  {
   "cell_type": "code",
   "execution_count": 41,
   "id": "e1d466c3-789b-4043-80ab-3f42d947a704",
   "metadata": {},
   "outputs": [
    {
     "name": "stdout",
     "output_type": "stream",
     "text": [
      "CPU times: total: 23.8 s\n",
      "Wall time: 24.1 s\n"
     ]
    },
    {
     "data": {
      "text/html": [
       "<div>\n",
       "<style scoped>\n",
       "    .dataframe tbody tr th:only-of-type {\n",
       "        vertical-align: middle;\n",
       "    }\n",
       "\n",
       "    .dataframe tbody tr th {\n",
       "        vertical-align: top;\n",
       "    }\n",
       "\n",
       "    .dataframe thead th {\n",
       "        text-align: right;\n",
       "    }\n",
       "</style>\n",
       "<table border=\"1\" class=\"dataframe\">\n",
       "  <thead>\n",
       "    <tr style=\"text-align: right;\">\n",
       "      <th></th>\n",
       "      <th>subreddit</th>\n",
       "      <th>title</th>\n",
       "      <th>stemmed_title</th>\n",
       "      <th>spacy_sentiment_pred</th>\n",
       "    </tr>\n",
       "  </thead>\n",
       "  <tbody>\n",
       "    <tr>\n",
       "      <th>3864</th>\n",
       "      <td>1</td>\n",
       "      <td>tea bringing comfort and joy even in the darke...</td>\n",
       "      <td>bring comfort joy even darkest situat</td>\n",
       "      <td>positive</td>\n",
       "    </tr>\n",
       "    <tr>\n",
       "      <th>5695</th>\n",
       "      <td>1</td>\n",
       "      <td>i have been on a scone kick ever since my trip...</td>\n",
       "      <td>scone kick ever sinc trip room</td>\n",
       "      <td>positive</td>\n",
       "    </tr>\n",
       "    <tr>\n",
       "      <th>8529</th>\n",
       "      <td>1</td>\n",
       "      <td>any decaf oolongs or greens anyone can recomme...</td>\n",
       "      <td>decaf oolong green anyon recommend enjoy bed s...</td>\n",
       "      <td>positive</td>\n",
       "    </tr>\n",
       "    <tr>\n",
       "      <th>10508</th>\n",
       "      <td>1</td>\n",
       "      <td>a nice oolong to round out the week</td>\n",
       "      <td>nice oolong round week</td>\n",
       "      <td>positive</td>\n",
       "    </tr>\n",
       "    <tr>\n",
       "      <th>11639</th>\n",
       "      <td>1</td>\n",
       "      <td>2 quick questions 😁 any of you use brita long ...</td>\n",
       "      <td>2 quick question use brita long last like seco...</td>\n",
       "      <td>negative</td>\n",
       "    </tr>\n",
       "  </tbody>\n",
       "</table>\n",
       "</div>"
      ],
      "text/plain": [
       "       subreddit                                              title  \\\n",
       "3864           1  tea bringing comfort and joy even in the darke...   \n",
       "5695           1  i have been on a scone kick ever since my trip...   \n",
       "8529           1  any decaf oolongs or greens anyone can recomme...   \n",
       "10508          1               a nice oolong to round out the week    \n",
       "11639          1  2 quick questions 😁 any of you use brita long ...   \n",
       "\n",
       "                                           stemmed_title spacy_sentiment_pred  \n",
       "3864               bring comfort joy even darkest situat             positive  \n",
       "5695                      scone kick ever sinc trip room             positive  \n",
       "8529   decaf oolong green anyon recommend enjoy bed s...             positive  \n",
       "10508                             nice oolong round week             positive  \n",
       "11639  2 quick question use brita long last like seco...             negative  "
      ]
     },
     "execution_count": 41,
     "metadata": {},
     "output_type": "execute_result"
    }
   ],
   "source": [
    "%%time\n",
    "# Let's calculate the accuracy of Spacy!\n",
    "\n",
    "# Find the predicted value of sentiment (< 0 -> negative and > 0 -> positive)\n",
    "def spacy_sentiment_pred(text):\n",
    "    spacy_output = nlp(text) # extend code from above for single text\n",
    "    \n",
    "    if spacy_output._.polarity < 0:\n",
    "        # negative\n",
    "        return 'negative'\n",
    "    else:\n",
    "        # positive\n",
    "        return 'positive'\n",
    "\n",
    "tea_df_spacy['spacy_sentiment_pred'] = tea_df_spacy['title'].apply(spacy_sentiment_pred) # same approach as shown with Vader\n",
    "tea_df_spacy.head()"
   ]
  },
  {
   "cell_type": "code",
   "execution_count": 42,
   "id": "bc0c1975-636b-41da-9460-a95e3d646412",
   "metadata": {},
   "outputs": [
    {
     "data": {
      "text/plain": [
       "positive    1731\n",
       "negative     269\n",
       "Name: spacy_sentiment_pred, dtype: int64"
      ]
     },
     "execution_count": 42,
     "metadata": {},
     "output_type": "execute_result"
    }
   ],
   "source": [
    "tea_df_spacy['spacy_sentiment_pred'].value_counts()"
   ]
  },
  {
   "cell_type": "code",
   "execution_count": 43,
   "id": "89a4c3e0-a2be-4b7c-ae62-14225a7941af",
   "metadata": {},
   "outputs": [
    {
     "data": {
      "text/html": [
       "<div>\n",
       "<style scoped>\n",
       "    .dataframe tbody tr th:only-of-type {\n",
       "        vertical-align: middle;\n",
       "    }\n",
       "\n",
       "    .dataframe tbody tr th {\n",
       "        vertical-align: top;\n",
       "    }\n",
       "\n",
       "    .dataframe thead th {\n",
       "        text-align: right;\n",
       "    }\n",
       "</style>\n",
       "<table border=\"1\" class=\"dataframe\">\n",
       "  <thead>\n",
       "    <tr style=\"text-align: right;\">\n",
       "      <th></th>\n",
       "      <th>spacy_sentiment_pred</th>\n",
       "    </tr>\n",
       "  </thead>\n",
       "  <tbody>\n",
       "    <tr>\n",
       "      <th>positive</th>\n",
       "      <td>1731</td>\n",
       "    </tr>\n",
       "    <tr>\n",
       "      <th>negative</th>\n",
       "      <td>269</td>\n",
       "    </tr>\n",
       "  </tbody>\n",
       "</table>\n",
       "</div>"
      ],
      "text/plain": [
       "          spacy_sentiment_pred\n",
       "positive                  1731\n",
       "negative                   269"
      ]
     },
     "execution_count": 43,
     "metadata": {},
     "output_type": "execute_result"
    }
   ],
   "source": [
    "tea_sentiments_spacy = pd.DataFrame(tea_df_spacy['spacy_sentiment_pred'].value_counts())\n",
    "tea_sentiments_spacy"
   ]
  },
  {
   "cell_type": "markdown",
   "id": "e6db5c56-6912-4ffc-98de-bbe49f9c77c5",
   "metadata": {
    "tags": []
   },
   "source": [
    "<a id=\"SumTea\"></a>\n",
    "## Summary for Tea"
   ]
  },
  {
   "cell_type": "code",
   "execution_count": 44,
   "id": "62c2efef-b62b-45eb-9c15-f071e9d4606e",
   "metadata": {},
   "outputs": [],
   "source": [
    "tea_cols = [\"Overall\", \"Green Tea\", \"Earl Grey Tea\", \"Tie Guan Yin\", \"Black Tea\", \"Overall_spacy\"]\n",
    "all_tea_sentiments = pd.concat([tea_sentiments, green_tea_sentiments, earl_grey_sentiments, tgy_sentiments, black_tea_sentiments, tea_sentiments_spacy], axis=1, ignore_index=True)\n",
    "all_tea_sentiments.columns = tea_cols"
   ]
  },
  {
   "cell_type": "code",
   "execution_count": 45,
   "id": "14c3b9f2-45ae-4121-95d1-87407000f3d8",
   "metadata": {},
   "outputs": [
    {
     "data": {
      "text/html": [
       "<div>\n",
       "<style scoped>\n",
       "    .dataframe tbody tr th:only-of-type {\n",
       "        vertical-align: middle;\n",
       "    }\n",
       "\n",
       "    .dataframe tbody tr th {\n",
       "        vertical-align: top;\n",
       "    }\n",
       "\n",
       "    .dataframe thead th {\n",
       "        text-align: right;\n",
       "    }\n",
       "</style>\n",
       "<table border=\"1\" class=\"dataframe\">\n",
       "  <thead>\n",
       "    <tr style=\"text-align: right;\">\n",
       "      <th></th>\n",
       "      <th>Overall</th>\n",
       "      <th>Green Tea</th>\n",
       "      <th>Earl Grey Tea</th>\n",
       "      <th>Tie Guan Yin</th>\n",
       "      <th>Black Tea</th>\n",
       "      <th>Overall_spacy</th>\n",
       "    </tr>\n",
       "  </thead>\n",
       "  <tbody>\n",
       "    <tr>\n",
       "      <th>neutral</th>\n",
       "      <td>1090</td>\n",
       "      <td>359</td>\n",
       "      <td>16</td>\n",
       "      <td>27</td>\n",
       "      <td>313</td>\n",
       "      <td>NaN</td>\n",
       "    </tr>\n",
       "    <tr>\n",
       "      <th>positive</th>\n",
       "      <td>709</td>\n",
       "      <td>352</td>\n",
       "      <td>14</td>\n",
       "      <td>18</td>\n",
       "      <td>303</td>\n",
       "      <td>1731.0</td>\n",
       "    </tr>\n",
       "    <tr>\n",
       "      <th>negative</th>\n",
       "      <td>201</td>\n",
       "      <td>121</td>\n",
       "      <td>6</td>\n",
       "      <td>1</td>\n",
       "      <td>97</td>\n",
       "      <td>269.0</td>\n",
       "    </tr>\n",
       "  </tbody>\n",
       "</table>\n",
       "</div>"
      ],
      "text/plain": [
       "          Overall  Green Tea  Earl Grey Tea  Tie Guan Yin  Black Tea  \\\n",
       "neutral      1090        359             16            27        313   \n",
       "positive      709        352             14            18        303   \n",
       "negative      201        121              6             1         97   \n",
       "\n",
       "          Overall_spacy  \n",
       "neutral             NaN  \n",
       "positive         1731.0  \n",
       "negative          269.0  "
      ]
     },
     "execution_count": 45,
     "metadata": {},
     "output_type": "execute_result"
    }
   ],
   "source": [
    "all_tea_sentiments"
   ]
  },
  {
   "cell_type": "code",
   "execution_count": 46,
   "id": "cafe2eae-244a-4dc1-8b3b-7df2270669f7",
   "metadata": {},
   "outputs": [
    {
     "data": {
      "text/html": [
       "<div>\n",
       "<style scoped>\n",
       "    .dataframe tbody tr th:only-of-type {\n",
       "        vertical-align: middle;\n",
       "    }\n",
       "\n",
       "    .dataframe tbody tr th {\n",
       "        vertical-align: top;\n",
       "    }\n",
       "\n",
       "    .dataframe thead th {\n",
       "        text-align: right;\n",
       "    }\n",
       "</style>\n",
       "<table border=\"1\" class=\"dataframe\">\n",
       "  <thead>\n",
       "    <tr style=\"text-align: right;\">\n",
       "      <th></th>\n",
       "      <th>Overall</th>\n",
       "      <th>Green Tea</th>\n",
       "      <th>Earl Grey Tea</th>\n",
       "      <th>Tie Guan Yin</th>\n",
       "      <th>Black Tea</th>\n",
       "      <th>Overall_spacy</th>\n",
       "    </tr>\n",
       "  </thead>\n",
       "  <tbody>\n",
       "    <tr>\n",
       "      <th>neutral</th>\n",
       "      <td>0.55</td>\n",
       "      <td>0.43</td>\n",
       "      <td>0.44</td>\n",
       "      <td>0.59</td>\n",
       "      <td>0.44</td>\n",
       "      <td>NaN</td>\n",
       "    </tr>\n",
       "    <tr>\n",
       "      <th>positive</th>\n",
       "      <td>0.35</td>\n",
       "      <td>0.42</td>\n",
       "      <td>0.39</td>\n",
       "      <td>0.39</td>\n",
       "      <td>0.42</td>\n",
       "      <td>0.87</td>\n",
       "    </tr>\n",
       "    <tr>\n",
       "      <th>negative</th>\n",
       "      <td>0.10</td>\n",
       "      <td>0.15</td>\n",
       "      <td>0.17</td>\n",
       "      <td>0.02</td>\n",
       "      <td>0.14</td>\n",
       "      <td>0.13</td>\n",
       "    </tr>\n",
       "  </tbody>\n",
       "</table>\n",
       "</div>"
      ],
      "text/plain": [
       "          Overall  Green Tea  Earl Grey Tea  Tie Guan Yin  Black Tea  \\\n",
       "neutral      0.55       0.43           0.44          0.59       0.44   \n",
       "positive     0.35       0.42           0.39          0.39       0.42   \n",
       "negative     0.10       0.15           0.17          0.02       0.14   \n",
       "\n",
       "          Overall_spacy  \n",
       "neutral             NaN  \n",
       "positive           0.87  \n",
       "negative           0.13  "
      ]
     },
     "execution_count": 46,
     "metadata": {},
     "output_type": "execute_result"
    }
   ],
   "source": [
    "all_tea_sentiments_perc = round(all_tea_sentiments / all_tea_sentiments.sum(), 2)\n",
    "all_tea_sentiments_perc"
   ]
  },
  {
   "cell_type": "markdown",
   "id": "2946d864-ef03-4f23-a267-f501770221b5",
   "metadata": {
    "tags": []
   },
   "source": [
    "## Sample Coffee Overall"
   ]
  },
  {
   "cell_type": "code",
   "execution_count": 47,
   "id": "6ce32ed7-d878-475e-b482-6d2b8cc6f8dd",
   "metadata": {},
   "outputs": [
    {
     "data": {
      "text/html": [
       "<div>\n",
       "<style scoped>\n",
       "    .dataframe tbody tr th:only-of-type {\n",
       "        vertical-align: middle;\n",
       "    }\n",
       "\n",
       "    .dataframe tbody tr th {\n",
       "        vertical-align: top;\n",
       "    }\n",
       "\n",
       "    .dataframe thead th {\n",
       "        text-align: right;\n",
       "    }\n",
       "</style>\n",
       "<table border=\"1\" class=\"dataframe\">\n",
       "  <thead>\n",
       "    <tr style=\"text-align: right;\">\n",
       "      <th></th>\n",
       "      <th>subreddit</th>\n",
       "      <th>title</th>\n",
       "      <th>stemmed_title</th>\n",
       "    </tr>\n",
       "  </thead>\n",
       "  <tbody>\n",
       "    <tr>\n",
       "      <th>11673</th>\n",
       "      <td>0</td>\n",
       "      <td>coffee reduces cardiovascular disease  large p...</td>\n",
       "      <td>reduc cardiovascular diseas larg popul studi c...</td>\n",
       "    </tr>\n",
       "    <tr>\n",
       "      <th>11674</th>\n",
       "      <td>0</td>\n",
       "      <td>where do europeans get their coffee stareuros</td>\n",
       "      <td>european get stareuro</td>\n",
       "    </tr>\n",
       "    <tr>\n",
       "      <th>11675</th>\n",
       "      <td>0</td>\n",
       "      <td>dark and stormy coffee why am i just learning ...</td>\n",
       "      <td>dark stormi learn 12oz black cold brew hot 8oz...</td>\n",
       "    </tr>\n",
       "    <tr>\n",
       "      <th>11676</th>\n",
       "      <td>0</td>\n",
       "      <td>should i learn how to roast coffee beans befor...</td>\n",
       "      <td>learn roast bean learn particular brew method ...</td>\n",
       "    </tr>\n",
       "    <tr>\n",
       "      <th>11677</th>\n",
       "      <td>0</td>\n",
       "      <td>roast me</td>\n",
       "      <td>roast</td>\n",
       "    </tr>\n",
       "    <tr>\n",
       "      <th>...</th>\n",
       "      <td>...</td>\n",
       "      <td>...</td>\n",
       "      <td>...</td>\n",
       "    </tr>\n",
       "    <tr>\n",
       "      <th>24921</th>\n",
       "      <td>0</td>\n",
       "      <td>is store brand cold brew less acidic</td>\n",
       "      <td>store brand cold brew less acid</td>\n",
       "    </tr>\n",
       "    <tr>\n",
       "      <th>24922</th>\n",
       "      <td>0</td>\n",
       "      <td>on yunnan coffee i was drinking a mix of yunna...</td>\n",
       "      <td>yunnan drink mix yunnan guatemala cafe morn sp...</td>\n",
       "    </tr>\n",
       "    <tr>\n",
       "      <th>24923</th>\n",
       "      <td>0</td>\n",
       "      <td>what is an easy way to get strong noteless cof...</td>\n",
       "      <td>easi way get strong noteless hello drank nesca...</td>\n",
       "    </tr>\n",
       "    <tr>\n",
       "      <th>24924</th>\n",
       "      <td>0</td>\n",
       "      <td>how to make coffee less bitter hi i have been ...</td>\n",
       "      <td>make less bitter hi drink instant find extrem ...</td>\n",
       "    </tr>\n",
       "    <tr>\n",
       "      <th>24925</th>\n",
       "      <td>0</td>\n",
       "      <td>used breville bes870xl  under 500  any other r...</td>\n",
       "      <td>use brevil bes870xl 500 recommend look one par...</td>\n",
       "    </tr>\n",
       "  </tbody>\n",
       "</table>\n",
       "<p>13213 rows × 3 columns</p>\n",
       "</div>"
      ],
      "text/plain": [
       "       subreddit                                              title  \\\n",
       "11673          0  coffee reduces cardiovascular disease  large p...   \n",
       "11674          0     where do europeans get their coffee stareuros    \n",
       "11675          0  dark and stormy coffee why am i just learning ...   \n",
       "11676          0  should i learn how to roast coffee beans befor...   \n",
       "11677          0                                          roast me    \n",
       "...          ...                                                ...   \n",
       "24921          0              is store brand cold brew less acidic    \n",
       "24922          0  on yunnan coffee i was drinking a mix of yunna...   \n",
       "24923          0  what is an easy way to get strong noteless cof...   \n",
       "24924          0  how to make coffee less bitter hi i have been ...   \n",
       "24925          0  used breville bes870xl  under 500  any other r...   \n",
       "\n",
       "                                           stemmed_title  \n",
       "11673  reduc cardiovascular diseas larg popul studi c...  \n",
       "11674                              european get stareuro  \n",
       "11675  dark stormi learn 12oz black cold brew hot 8oz...  \n",
       "11676  learn roast bean learn particular brew method ...  \n",
       "11677                                              roast  \n",
       "...                                                  ...  \n",
       "24921                    store brand cold brew less acid  \n",
       "24922  yunnan drink mix yunnan guatemala cafe morn sp...  \n",
       "24923  easi way get strong noteless hello drank nesca...  \n",
       "24924  make less bitter hi drink instant find extrem ...  \n",
       "24925  use brevil bes870xl 500 recommend look one par...  \n",
       "\n",
       "[13213 rows x 3 columns]"
      ]
     },
     "execution_count": 47,
     "metadata": {},
     "output_type": "execute_result"
    }
   ],
   "source": [
    "coffee_df=df.loc[df['subreddit'] == 0, :]\n",
    "coffee_df"
   ]
  },
  {
   "cell_type": "code",
   "execution_count": 48,
   "id": "ba086641-4484-4a70-83ff-511299211fdf",
   "metadata": {},
   "outputs": [],
   "source": [
    "coffee_sample_senti = sentiments(coffee_df.sample(n=2000, random_state=42))"
   ]
  },
  {
   "cell_type": "code",
   "execution_count": 49,
   "id": "a70bfec5-3f3a-43ed-ad0f-68cc3a2f908f",
   "metadata": {},
   "outputs": [
    {
     "data": {
      "text/html": [
       "<div>\n",
       "<style scoped>\n",
       "    .dataframe tbody tr th:only-of-type {\n",
       "        vertical-align: middle;\n",
       "    }\n",
       "\n",
       "    .dataframe tbody tr th {\n",
       "        vertical-align: top;\n",
       "    }\n",
       "\n",
       "    .dataframe thead th {\n",
       "        text-align: right;\n",
       "    }\n",
       "</style>\n",
       "<table border=\"1\" class=\"dataframe\">\n",
       "  <thead>\n",
       "    <tr style=\"text-align: right;\">\n",
       "      <th></th>\n",
       "      <th>subreddit</th>\n",
       "      <th>title</th>\n",
       "      <th>stemmed_title</th>\n",
       "      <th>sentiment</th>\n",
       "      <th>sentiments</th>\n",
       "    </tr>\n",
       "  </thead>\n",
       "  <tbody>\n",
       "    <tr>\n",
       "      <th>20113</th>\n",
       "      <td>0</td>\n",
       "      <td>got a nespresso not bad</td>\n",
       "      <td>got nespresso bad</td>\n",
       "      <td>[{'label': 'LABEL_2', 'score': 0.8882138729095...</td>\n",
       "      <td>positive</td>\n",
       "    </tr>\n",
       "    <tr>\n",
       "      <th>16507</th>\n",
       "      <td>0</td>\n",
       "      <td>how to “properly” drink a layered drink iced m...</td>\n",
       "      <td>properli drink layer drink ice macchiato bumbl...</td>\n",
       "      <td>[{'label': 'LABEL_1', 'score': 0.6695403456687...</td>\n",
       "      <td>neutral</td>\n",
       "    </tr>\n",
       "    <tr>\n",
       "      <th>24719</th>\n",
       "      <td>0</td>\n",
       "      <td>filter not working properly in mrcoffee machine</td>\n",
       "      <td>filter work properli mrcoffe machin</td>\n",
       "      <td>[{'label': 'LABEL_0', 'score': 0.7453929781913...</td>\n",
       "      <td>negative</td>\n",
       "    </tr>\n",
       "    <tr>\n",
       "      <th>13033</th>\n",
       "      <td>0</td>\n",
       "      <td>virtuoso alternatives i am looking at automati...</td>\n",
       "      <td>virtuoso altern look automat grinder w timer k...</td>\n",
       "      <td>[{'label': 'LABEL_1', 'score': 0.5048190355300...</td>\n",
       "      <td>neutral</td>\n",
       "    </tr>\n",
       "    <tr>\n",
       "      <th>16151</th>\n",
       "      <td>0</td>\n",
       "      <td>my only gripe with the encore baratza</td>\n",
       "      <td>gripe encor baratza</td>\n",
       "      <td>[{'label': 'LABEL_1', 'score': 0.6687008142471...</td>\n",
       "      <td>neutral</td>\n",
       "    </tr>\n",
       "  </tbody>\n",
       "</table>\n",
       "</div>"
      ],
      "text/plain": [
       "       subreddit                                              title  \\\n",
       "20113          0                           got a nespresso not bad    \n",
       "16507          0  how to “properly” drink a layered drink iced m...   \n",
       "24719          0   filter not working properly in mrcoffee machine    \n",
       "13033          0  virtuoso alternatives i am looking at automati...   \n",
       "16151          0             my only gripe with the encore baratza    \n",
       "\n",
       "                                           stemmed_title  \\\n",
       "20113                                  got nespresso bad   \n",
       "16507  properli drink layer drink ice macchiato bumbl...   \n",
       "24719                filter work properli mrcoffe machin   \n",
       "13033  virtuoso altern look automat grinder w timer k...   \n",
       "16151                                gripe encor baratza   \n",
       "\n",
       "                                               sentiment sentiments  \n",
       "20113  [{'label': 'LABEL_2', 'score': 0.8882138729095...   positive  \n",
       "16507  [{'label': 'LABEL_1', 'score': 0.6695403456687...    neutral  \n",
       "24719  [{'label': 'LABEL_0', 'score': 0.7453929781913...   negative  \n",
       "13033  [{'label': 'LABEL_1', 'score': 0.5048190355300...    neutral  \n",
       "16151  [{'label': 'LABEL_1', 'score': 0.6687008142471...    neutral  "
      ]
     },
     "execution_count": 49,
     "metadata": {},
     "output_type": "execute_result"
    }
   ],
   "source": [
    "coffee_sample_senti.head()"
   ]
  },
  {
   "cell_type": "code",
   "execution_count": 50,
   "id": "0f17b9a6-6d38-4afe-bd4f-9f5807f136b6",
   "metadata": {},
   "outputs": [
    {
     "data": {
      "text/plain": [
       "neutral     972\n",
       "positive    545\n",
       "negative    483\n",
       "Name: sentiments, dtype: int64"
      ]
     },
     "execution_count": 50,
     "metadata": {},
     "output_type": "execute_result"
    }
   ],
   "source": [
    "coffee_sample_senti['sentiments'].value_counts()"
   ]
  },
  {
   "cell_type": "code",
   "execution_count": 51,
   "id": "8fbbba73-9e8f-4dce-982d-38f6b13e2fbb",
   "metadata": {},
   "outputs": [
    {
     "data": {
      "text/html": [
       "<div>\n",
       "<style scoped>\n",
       "    .dataframe tbody tr th:only-of-type {\n",
       "        vertical-align: middle;\n",
       "    }\n",
       "\n",
       "    .dataframe tbody tr th {\n",
       "        vertical-align: top;\n",
       "    }\n",
       "\n",
       "    .dataframe thead th {\n",
       "        text-align: right;\n",
       "    }\n",
       "</style>\n",
       "<table border=\"1\" class=\"dataframe\">\n",
       "  <thead>\n",
       "    <tr style=\"text-align: right;\">\n",
       "      <th></th>\n",
       "      <th>sentiments</th>\n",
       "    </tr>\n",
       "  </thead>\n",
       "  <tbody>\n",
       "    <tr>\n",
       "      <th>neutral</th>\n",
       "      <td>972</td>\n",
       "    </tr>\n",
       "    <tr>\n",
       "      <th>positive</th>\n",
       "      <td>545</td>\n",
       "    </tr>\n",
       "    <tr>\n",
       "      <th>negative</th>\n",
       "      <td>483</td>\n",
       "    </tr>\n",
       "  </tbody>\n",
       "</table>\n",
       "</div>"
      ],
      "text/plain": [
       "          sentiments\n",
       "neutral          972\n",
       "positive         545\n",
       "negative         483"
      ]
     },
     "execution_count": 51,
     "metadata": {},
     "output_type": "execute_result"
    }
   ],
   "source": [
    "coffee_sentiments = pd.DataFrame(coffee_sample_senti['sentiments'].value_counts())\n",
    "coffee_sentiments"
   ]
  },
  {
   "cell_type": "markdown",
   "id": "d6152f80-5678-4d31-a057-d902c2c55f7b",
   "metadata": {
    "tags": []
   },
   "source": [
    "## Interested words in coffee"
   ]
  },
  {
   "cell_type": "code",
   "execution_count": 52,
   "id": "fc2d8a83-40f0-4546-a855-fbcde225b5c4",
   "metadata": {},
   "outputs": [],
   "source": [
    "coffee_cold_brew = coffee_df[coffee_df['title'].str.contains('cold brew')]\n",
    "coffee_cold_brew = coffee_cold_brew.copy()\n",
    "\n",
    "coffee_french_press = coffee_df[coffee_df['title'].str.contains('french press')]\n",
    "coffee_french_press = coffee_french_press.copy()\n",
    "\n",
    "coffee_moka_pot = coffee_df[coffee_df['title'].str.contains('moka pot')]\n",
    "coffee_moka_pot = coffee_moka_pot.copy()\n",
    "\n",
    "coffee_hand_grinder = coffee_df[coffee_df['title'].str.contains('hand grinder')]\n",
    "coffee_hand_grinder = coffee_hand_grinder.copy()"
   ]
  },
  {
   "cell_type": "markdown",
   "id": "72b2310d-a367-4b05-9b7d-52b740a391ba",
   "metadata": {
    "tags": []
   },
   "source": [
    "## Cold Brew"
   ]
  },
  {
   "cell_type": "code",
   "execution_count": 53,
   "id": "ce546cf9-b40b-45c8-90f8-e8a2fd36bdc7",
   "metadata": {},
   "outputs": [],
   "source": [
    "cold_brew_senti = sentiments(coffee_cold_brew)"
   ]
  },
  {
   "cell_type": "code",
   "execution_count": 54,
   "id": "5e2292c7-f296-4637-b378-a3023a11b829",
   "metadata": {},
   "outputs": [
    {
     "data": {
      "text/html": [
       "<div>\n",
       "<style scoped>\n",
       "    .dataframe tbody tr th:only-of-type {\n",
       "        vertical-align: middle;\n",
       "    }\n",
       "\n",
       "    .dataframe tbody tr th {\n",
       "        vertical-align: top;\n",
       "    }\n",
       "\n",
       "    .dataframe thead th {\n",
       "        text-align: right;\n",
       "    }\n",
       "</style>\n",
       "<table border=\"1\" class=\"dataframe\">\n",
       "  <thead>\n",
       "    <tr style=\"text-align: right;\">\n",
       "      <th></th>\n",
       "      <th>subreddit</th>\n",
       "      <th>title</th>\n",
       "      <th>stemmed_title</th>\n",
       "      <th>sentiment</th>\n",
       "      <th>sentiments</th>\n",
       "    </tr>\n",
       "  </thead>\n",
       "  <tbody>\n",
       "    <tr>\n",
       "      <th>11675</th>\n",
       "      <td>0</td>\n",
       "      <td>dark and stormy coffee why am i just learning ...</td>\n",
       "      <td>dark stormi learn 12oz black cold brew hot 8oz...</td>\n",
       "      <td>[{'label': 'LABEL_2', 'score': 0.9694674611091...</td>\n",
       "      <td>positive</td>\n",
       "    </tr>\n",
       "    <tr>\n",
       "      <th>11740</th>\n",
       "      <td>0</td>\n",
       "      <td>i was pleasantly surprised by these simple tru...</td>\n",
       "      <td>pleasantli surpris simpl truth nitro cold brew...</td>\n",
       "      <td>[{'label': 'LABEL_2', 'score': 0.9112371802330...</td>\n",
       "      <td>positive</td>\n",
       "    </tr>\n",
       "    <tr>\n",
       "      <th>11760</th>\n",
       "      <td>0</td>\n",
       "      <td>how can i make a super smooth and creamy iced ...</td>\n",
       "      <td>make super smooth creami ice go restaur like f...</td>\n",
       "      <td>[{'label': 'LABEL_0', 'score': 0.4376310706138...</td>\n",
       "      <td>negative</td>\n",
       "    </tr>\n",
       "    <tr>\n",
       "      <th>11779</th>\n",
       "      <td>0</td>\n",
       "      <td>cold brew help i am not sure if i am looking f...</td>\n",
       "      <td>cold brew help sure look someth exist truli sc...</td>\n",
       "      <td>[{'label': 'LABEL_0', 'score': 0.8254464864730...</td>\n",
       "      <td>negative</td>\n",
       "    </tr>\n",
       "    <tr>\n",
       "      <th>11810</th>\n",
       "      <td>0</td>\n",
       "      <td>how to quickly use up flavored coffee beans he...</td>\n",
       "      <td>quickli use flavor bean help bought 100g bag g...</td>\n",
       "      <td>[{'label': 'LABEL_0', 'score': 0.4908444285392...</td>\n",
       "      <td>negative</td>\n",
       "    </tr>\n",
       "  </tbody>\n",
       "</table>\n",
       "</div>"
      ],
      "text/plain": [
       "       subreddit                                              title  \\\n",
       "11675          0  dark and stormy coffee why am i just learning ...   \n",
       "11740          0  i was pleasantly surprised by these simple tru...   \n",
       "11760          0  how can i make a super smooth and creamy iced ...   \n",
       "11779          0  cold brew help i am not sure if i am looking f...   \n",
       "11810          0  how to quickly use up flavored coffee beans he...   \n",
       "\n",
       "                                           stemmed_title  \\\n",
       "11675  dark stormi learn 12oz black cold brew hot 8oz...   \n",
       "11740  pleasantli surpris simpl truth nitro cold brew...   \n",
       "11760  make super smooth creami ice go restaur like f...   \n",
       "11779  cold brew help sure look someth exist truli sc...   \n",
       "11810  quickli use flavor bean help bought 100g bag g...   \n",
       "\n",
       "                                               sentiment sentiments  \n",
       "11675  [{'label': 'LABEL_2', 'score': 0.9694674611091...   positive  \n",
       "11740  [{'label': 'LABEL_2', 'score': 0.9112371802330...   positive  \n",
       "11760  [{'label': 'LABEL_0', 'score': 0.4376310706138...   negative  \n",
       "11779  [{'label': 'LABEL_0', 'score': 0.8254464864730...   negative  \n",
       "11810  [{'label': 'LABEL_0', 'score': 0.4908444285392...   negative  "
      ]
     },
     "execution_count": 54,
     "metadata": {},
     "output_type": "execute_result"
    }
   ],
   "source": [
    "cold_brew_senti.head()"
   ]
  },
  {
   "cell_type": "code",
   "execution_count": 55,
   "id": "8ddd3512-914c-4ba4-bc99-9c08b99eff1e",
   "metadata": {},
   "outputs": [
    {
     "data": {
      "text/plain": [
       "neutral     280\n",
       "positive    161\n",
       "negative    137\n",
       "Name: sentiments, dtype: int64"
      ]
     },
     "execution_count": 55,
     "metadata": {},
     "output_type": "execute_result"
    }
   ],
   "source": [
    "cold_brew_senti['sentiments'].value_counts()"
   ]
  },
  {
   "cell_type": "code",
   "execution_count": 56,
   "id": "9a1bd0f4-b71d-4091-adeb-ecd44d08d1dd",
   "metadata": {},
   "outputs": [
    {
     "data": {
      "text/html": [
       "<div>\n",
       "<style scoped>\n",
       "    .dataframe tbody tr th:only-of-type {\n",
       "        vertical-align: middle;\n",
       "    }\n",
       "\n",
       "    .dataframe tbody tr th {\n",
       "        vertical-align: top;\n",
       "    }\n",
       "\n",
       "    .dataframe thead th {\n",
       "        text-align: right;\n",
       "    }\n",
       "</style>\n",
       "<table border=\"1\" class=\"dataframe\">\n",
       "  <thead>\n",
       "    <tr style=\"text-align: right;\">\n",
       "      <th></th>\n",
       "      <th>sentiments</th>\n",
       "    </tr>\n",
       "  </thead>\n",
       "  <tbody>\n",
       "    <tr>\n",
       "      <th>neutral</th>\n",
       "      <td>280</td>\n",
       "    </tr>\n",
       "    <tr>\n",
       "      <th>positive</th>\n",
       "      <td>161</td>\n",
       "    </tr>\n",
       "    <tr>\n",
       "      <th>negative</th>\n",
       "      <td>137</td>\n",
       "    </tr>\n",
       "  </tbody>\n",
       "</table>\n",
       "</div>"
      ],
      "text/plain": [
       "          sentiments\n",
       "neutral          280\n",
       "positive         161\n",
       "negative         137"
      ]
     },
     "execution_count": 56,
     "metadata": {},
     "output_type": "execute_result"
    }
   ],
   "source": [
    "cold_brew_sentiments = pd.DataFrame(cold_brew_senti['sentiments'].value_counts())\n",
    "cold_brew_sentiments"
   ]
  },
  {
   "cell_type": "markdown",
   "id": "b4ccc3e6-3856-4f7e-aec9-3ba21f18411f",
   "metadata": {
    "tags": []
   },
   "source": [
    "## French Press"
   ]
  },
  {
   "cell_type": "code",
   "execution_count": 57,
   "id": "9e5a7e03-30f8-45db-8e49-802d1fa09602",
   "metadata": {},
   "outputs": [],
   "source": [
    "french_press_senti = sentiments(coffee_french_press)"
   ]
  },
  {
   "cell_type": "code",
   "execution_count": 58,
   "id": "9f938195-d8e4-4809-9583-1c06111474ff",
   "metadata": {},
   "outputs": [
    {
     "data": {
      "text/html": [
       "<div>\n",
       "<style scoped>\n",
       "    .dataframe tbody tr th:only-of-type {\n",
       "        vertical-align: middle;\n",
       "    }\n",
       "\n",
       "    .dataframe tbody tr th {\n",
       "        vertical-align: top;\n",
       "    }\n",
       "\n",
       "    .dataframe thead th {\n",
       "        text-align: right;\n",
       "    }\n",
       "</style>\n",
       "<table border=\"1\" class=\"dataframe\">\n",
       "  <thead>\n",
       "    <tr style=\"text-align: right;\">\n",
       "      <th></th>\n",
       "      <th>subreddit</th>\n",
       "      <th>title</th>\n",
       "      <th>stemmed_title</th>\n",
       "      <th>sentiment</th>\n",
       "      <th>sentiments</th>\n",
       "    </tr>\n",
       "  </thead>\n",
       "  <tbody>\n",
       "    <tr>\n",
       "      <th>11693</th>\n",
       "      <td>0</td>\n",
       "      <td>french press scaled up is not tasting good i h...</td>\n",
       "      <td>french press scale tast good 34 oz bodom frenc...</td>\n",
       "      <td>[{'label': 'LABEL_0', 'score': 0.5980810523033...</td>\n",
       "      <td>negative</td>\n",
       "    </tr>\n",
       "    <tr>\n",
       "      <th>11706</th>\n",
       "      <td>0</td>\n",
       "      <td>question is there a name for the method i use ...</td>\n",
       "      <td>question name method use seen friend use machi...</td>\n",
       "      <td>[{'label': 'LABEL_1', 'score': 0.7231719493865...</td>\n",
       "      <td>neutral</td>\n",
       "    </tr>\n",
       "    <tr>\n",
       "      <th>11709</th>\n",
       "      <td>0</td>\n",
       "      <td>tried a french press i tried a french press an...</td>\n",
       "      <td>tri french press tri french press maje tast mu...</td>\n",
       "      <td>[{'label': 'LABEL_2', 'score': 0.8298047184944...</td>\n",
       "      <td>positive</td>\n",
       "    </tr>\n",
       "    <tr>\n",
       "      <th>11725</th>\n",
       "      <td>0</td>\n",
       "      <td>i am looking for a low cost receptacle that wi...</td>\n",
       "      <td>look low cost receptacl boil water stove top p...</td>\n",
       "      <td>[{'label': 'LABEL_1', 'score': 0.8764566779136...</td>\n",
       "      <td>neutral</td>\n",
       "    </tr>\n",
       "    <tr>\n",
       "      <th>11737</th>\n",
       "      <td>0</td>\n",
       "      <td>i am gonna say iti prefer single pouonly bloom...</td>\n",
       "      <td>gonna say iti prefer singl pouonli bloom metho...</td>\n",
       "      <td>[{'label': 'LABEL_2', 'score': 0.5912940502166...</td>\n",
       "      <td>positive</td>\n",
       "    </tr>\n",
       "  </tbody>\n",
       "</table>\n",
       "</div>"
      ],
      "text/plain": [
       "       subreddit                                              title  \\\n",
       "11693          0  french press scaled up is not tasting good i h...   \n",
       "11706          0  question is there a name for the method i use ...   \n",
       "11709          0  tried a french press i tried a french press an...   \n",
       "11725          0  i am looking for a low cost receptacle that wi...   \n",
       "11737          0  i am gonna say iti prefer single pouonly bloom...   \n",
       "\n",
       "                                           stemmed_title  \\\n",
       "11693  french press scale tast good 34 oz bodom frenc...   \n",
       "11706  question name method use seen friend use machi...   \n",
       "11709  tri french press tri french press maje tast mu...   \n",
       "11725  look low cost receptacl boil water stove top p...   \n",
       "11737  gonna say iti prefer singl pouonli bloom metho...   \n",
       "\n",
       "                                               sentiment sentiments  \n",
       "11693  [{'label': 'LABEL_0', 'score': 0.5980810523033...   negative  \n",
       "11706  [{'label': 'LABEL_1', 'score': 0.7231719493865...    neutral  \n",
       "11709  [{'label': 'LABEL_2', 'score': 0.8298047184944...   positive  \n",
       "11725  [{'label': 'LABEL_1', 'score': 0.8764566779136...    neutral  \n",
       "11737  [{'label': 'LABEL_2', 'score': 0.5912940502166...   positive  "
      ]
     },
     "execution_count": 58,
     "metadata": {},
     "output_type": "execute_result"
    }
   ],
   "source": [
    "french_press_senti.head()"
   ]
  },
  {
   "cell_type": "code",
   "execution_count": 59,
   "id": "2b969338-0412-4263-b75b-233d081ee767",
   "metadata": {},
   "outputs": [
    {
     "data": {
      "text/plain": [
       "neutral     384\n",
       "positive    237\n",
       "negative    170\n",
       "Name: sentiments, dtype: int64"
      ]
     },
     "execution_count": 59,
     "metadata": {},
     "output_type": "execute_result"
    }
   ],
   "source": [
    "french_press_senti['sentiments'].value_counts()"
   ]
  },
  {
   "cell_type": "code",
   "execution_count": 60,
   "id": "2962cf13-dc8a-4895-8bfc-b760b0df2df4",
   "metadata": {},
   "outputs": [
    {
     "data": {
      "text/html": [
       "<div>\n",
       "<style scoped>\n",
       "    .dataframe tbody tr th:only-of-type {\n",
       "        vertical-align: middle;\n",
       "    }\n",
       "\n",
       "    .dataframe tbody tr th {\n",
       "        vertical-align: top;\n",
       "    }\n",
       "\n",
       "    .dataframe thead th {\n",
       "        text-align: right;\n",
       "    }\n",
       "</style>\n",
       "<table border=\"1\" class=\"dataframe\">\n",
       "  <thead>\n",
       "    <tr style=\"text-align: right;\">\n",
       "      <th></th>\n",
       "      <th>sentiments</th>\n",
       "    </tr>\n",
       "  </thead>\n",
       "  <tbody>\n",
       "    <tr>\n",
       "      <th>neutral</th>\n",
       "      <td>384</td>\n",
       "    </tr>\n",
       "    <tr>\n",
       "      <th>positive</th>\n",
       "      <td>237</td>\n",
       "    </tr>\n",
       "    <tr>\n",
       "      <th>negative</th>\n",
       "      <td>170</td>\n",
       "    </tr>\n",
       "  </tbody>\n",
       "</table>\n",
       "</div>"
      ],
      "text/plain": [
       "          sentiments\n",
       "neutral          384\n",
       "positive         237\n",
       "negative         170"
      ]
     },
     "execution_count": 60,
     "metadata": {},
     "output_type": "execute_result"
    }
   ],
   "source": [
    "french_press_sentiments = pd.DataFrame(french_press_senti['sentiments'].value_counts())\n",
    "french_press_sentiments"
   ]
  },
  {
   "cell_type": "markdown",
   "id": "66b1f197-78d9-4014-9f31-95863f988805",
   "metadata": {
    "tags": []
   },
   "source": [
    "## Moka Pot"
   ]
  },
  {
   "cell_type": "code",
   "execution_count": 61,
   "id": "da57edd9-5976-4587-87e9-15fe45aa3b3d",
   "metadata": {},
   "outputs": [],
   "source": [
    "moka_pot_senti = sentiments(coffee_moka_pot)"
   ]
  },
  {
   "cell_type": "code",
   "execution_count": 62,
   "id": "533fc1ca-a59a-4c0e-82d5-a25f70a0eac0",
   "metadata": {},
   "outputs": [
    {
     "data": {
      "text/html": [
       "<div>\n",
       "<style scoped>\n",
       "    .dataframe tbody tr th:only-of-type {\n",
       "        vertical-align: middle;\n",
       "    }\n",
       "\n",
       "    .dataframe tbody tr th {\n",
       "        vertical-align: top;\n",
       "    }\n",
       "\n",
       "    .dataframe thead th {\n",
       "        text-align: right;\n",
       "    }\n",
       "</style>\n",
       "<table border=\"1\" class=\"dataframe\">\n",
       "  <thead>\n",
       "    <tr style=\"text-align: right;\">\n",
       "      <th></th>\n",
       "      <th>subreddit</th>\n",
       "      <th>title</th>\n",
       "      <th>stemmed_title</th>\n",
       "      <th>sentiment</th>\n",
       "      <th>sentiments</th>\n",
       "    </tr>\n",
       "  </thead>\n",
       "  <tbody>\n",
       "    <tr>\n",
       "      <th>11683</th>\n",
       "      <td>0</td>\n",
       "      <td>hi there coffee reddit i would like some advic...</td>\n",
       "      <td>hi reddit would like advic moka pot neglect uh...</td>\n",
       "      <td>[{'label': 'LABEL_1', 'score': 0.5028273463249...</td>\n",
       "      <td>neutral</td>\n",
       "    </tr>\n",
       "    <tr>\n",
       "      <th>11733</th>\n",
       "      <td>0</td>\n",
       "      <td>hand grinder this is another post asking what ...</td>\n",
       "      <td>hand grinder anoth post ask hand grinder buy t...</td>\n",
       "      <td>[{'label': 'LABEL_1', 'score': 0.5737534165382...</td>\n",
       "      <td>neutral</td>\n",
       "    </tr>\n",
       "    <tr>\n",
       "      <th>11779</th>\n",
       "      <td>0</td>\n",
       "      <td>cold brew help i am not sure if i am looking f...</td>\n",
       "      <td>cold brew help sure look someth exist truli sc...</td>\n",
       "      <td>[{'label': 'LABEL_0', 'score': 0.8254464864730...</td>\n",
       "      <td>negative</td>\n",
       "    </tr>\n",
       "    <tr>\n",
       "      <th>11795</th>\n",
       "      <td>0</td>\n",
       "      <td>expected moka pot yield so i am using a 101 wa...</td>\n",
       "      <td>expect moka pot yield use 101 watercoffe ratio...</td>\n",
       "      <td>[{'label': 'LABEL_0', 'score': 0.4814542829990...</td>\n",
       "      <td>negative</td>\n",
       "    </tr>\n",
       "    <tr>\n",
       "      <th>11797</th>\n",
       "      <td>0</td>\n",
       "      <td>coffee quantity for moka pot 3 cups what am i ...</td>\n",
       "      <td>quantiti moka pot 3 cup wrong hi guy use moka ...</td>\n",
       "      <td>[{'label': 'LABEL_0', 'score': 0.6876979470252...</td>\n",
       "      <td>negative</td>\n",
       "    </tr>\n",
       "  </tbody>\n",
       "</table>\n",
       "</div>"
      ],
      "text/plain": [
       "       subreddit                                              title  \\\n",
       "11683          0  hi there coffee reddit i would like some advic...   \n",
       "11733          0  hand grinder this is another post asking what ...   \n",
       "11779          0  cold brew help i am not sure if i am looking f...   \n",
       "11795          0  expected moka pot yield so i am using a 101 wa...   \n",
       "11797          0  coffee quantity for moka pot 3 cups what am i ...   \n",
       "\n",
       "                                           stemmed_title  \\\n",
       "11683  hi reddit would like advic moka pot neglect uh...   \n",
       "11733  hand grinder anoth post ask hand grinder buy t...   \n",
       "11779  cold brew help sure look someth exist truli sc...   \n",
       "11795  expect moka pot yield use 101 watercoffe ratio...   \n",
       "11797  quantiti moka pot 3 cup wrong hi guy use moka ...   \n",
       "\n",
       "                                               sentiment sentiments  \n",
       "11683  [{'label': 'LABEL_1', 'score': 0.5028273463249...    neutral  \n",
       "11733  [{'label': 'LABEL_1', 'score': 0.5737534165382...    neutral  \n",
       "11779  [{'label': 'LABEL_0', 'score': 0.8254464864730...   negative  \n",
       "11795  [{'label': 'LABEL_0', 'score': 0.4814542829990...   negative  \n",
       "11797  [{'label': 'LABEL_0', 'score': 0.6876979470252...   negative  "
      ]
     },
     "execution_count": 62,
     "metadata": {},
     "output_type": "execute_result"
    }
   ],
   "source": [
    "moka_pot_senti.head()"
   ]
  },
  {
   "cell_type": "code",
   "execution_count": 63,
   "id": "4c5d8133-e02f-4a5b-b1ed-0d89caeb5a2a",
   "metadata": {},
   "outputs": [
    {
     "data": {
      "text/plain": [
       "neutral     236\n",
       "positive    132\n",
       "negative    118\n",
       "Name: sentiments, dtype: int64"
      ]
     },
     "execution_count": 63,
     "metadata": {},
     "output_type": "execute_result"
    }
   ],
   "source": [
    "moka_pot_senti['sentiments'].value_counts()"
   ]
  },
  {
   "cell_type": "code",
   "execution_count": 64,
   "id": "86385e2c-a828-4b0f-9788-00404055064f",
   "metadata": {},
   "outputs": [
    {
     "data": {
      "text/html": [
       "<div>\n",
       "<style scoped>\n",
       "    .dataframe tbody tr th:only-of-type {\n",
       "        vertical-align: middle;\n",
       "    }\n",
       "\n",
       "    .dataframe tbody tr th {\n",
       "        vertical-align: top;\n",
       "    }\n",
       "\n",
       "    .dataframe thead th {\n",
       "        text-align: right;\n",
       "    }\n",
       "</style>\n",
       "<table border=\"1\" class=\"dataframe\">\n",
       "  <thead>\n",
       "    <tr style=\"text-align: right;\">\n",
       "      <th></th>\n",
       "      <th>sentiments</th>\n",
       "    </tr>\n",
       "  </thead>\n",
       "  <tbody>\n",
       "    <tr>\n",
       "      <th>neutral</th>\n",
       "      <td>236</td>\n",
       "    </tr>\n",
       "    <tr>\n",
       "      <th>positive</th>\n",
       "      <td>132</td>\n",
       "    </tr>\n",
       "    <tr>\n",
       "      <th>negative</th>\n",
       "      <td>118</td>\n",
       "    </tr>\n",
       "  </tbody>\n",
       "</table>\n",
       "</div>"
      ],
      "text/plain": [
       "          sentiments\n",
       "neutral          236\n",
       "positive         132\n",
       "negative         118"
      ]
     },
     "execution_count": 64,
     "metadata": {},
     "output_type": "execute_result"
    }
   ],
   "source": [
    "moka_pot_sentiments = pd.DataFrame(moka_pot_senti['sentiments'].value_counts())\n",
    "moka_pot_sentiments"
   ]
  },
  {
   "cell_type": "markdown",
   "id": "da23aff6-6ef1-4e33-b76d-678dde4a7872",
   "metadata": {
    "tags": []
   },
   "source": [
    "## Hand Grinder"
   ]
  },
  {
   "cell_type": "code",
   "execution_count": 65,
   "id": "2e161ad4-b7cd-4aaf-ba9b-b003b5a4ff43",
   "metadata": {},
   "outputs": [],
   "source": [
    "hand_grinder_senti = sentiments(coffee_hand_grinder)"
   ]
  },
  {
   "cell_type": "code",
   "execution_count": 66,
   "id": "3e9fbf3a-16c2-4bf1-b18c-f4684e435901",
   "metadata": {},
   "outputs": [
    {
     "data": {
      "text/html": [
       "<div>\n",
       "<style scoped>\n",
       "    .dataframe tbody tr th:only-of-type {\n",
       "        vertical-align: middle;\n",
       "    }\n",
       "\n",
       "    .dataframe tbody tr th {\n",
       "        vertical-align: top;\n",
       "    }\n",
       "\n",
       "    .dataframe thead th {\n",
       "        text-align: right;\n",
       "    }\n",
       "</style>\n",
       "<table border=\"1\" class=\"dataframe\">\n",
       "  <thead>\n",
       "    <tr style=\"text-align: right;\">\n",
       "      <th></th>\n",
       "      <th>subreddit</th>\n",
       "      <th>title</th>\n",
       "      <th>stemmed_title</th>\n",
       "      <th>sentiment</th>\n",
       "      <th>sentiments</th>\n",
       "    </tr>\n",
       "  </thead>\n",
       "  <tbody>\n",
       "    <tr>\n",
       "      <th>11733</th>\n",
       "      <td>0</td>\n",
       "      <td>hand grinder this is another post asking what ...</td>\n",
       "      <td>hand grinder anoth post ask hand grinder buy t...</td>\n",
       "      <td>[{'label': 'LABEL_1', 'score': 0.5737534165382...</td>\n",
       "      <td>neutral</td>\n",
       "    </tr>\n",
       "    <tr>\n",
       "      <th>11767</th>\n",
       "      <td>0</td>\n",
       "      <td>new to espresso need direction and recommendat...</td>\n",
       "      <td>new espresso need direct recommend hello lover...</td>\n",
       "      <td>[{'label': 'LABEL_1', 'score': 0.6123094558715...</td>\n",
       "      <td>neutral</td>\n",
       "    </tr>\n",
       "    <tr>\n",
       "      <th>11814</th>\n",
       "      <td>0</td>\n",
       "      <td>aftermarket burrs for handgrinder has anyone u...</td>\n",
       "      <td>aftermarket burr handgrind anyon use aftermark...</td>\n",
       "      <td>[{'label': 'LABEL_1', 'score': 0.6050747632980...</td>\n",
       "      <td>neutral</td>\n",
       "    </tr>\n",
       "    <tr>\n",
       "      <th>11816</th>\n",
       "      <td>0</td>\n",
       "      <td>new grinder  who dis last may our keurig machi...</td>\n",
       "      <td>new grinder di last may keurig machin broke st...</td>\n",
       "      <td>[{'label': 'LABEL_2', 'score': 0.7181528806686...</td>\n",
       "      <td>positive</td>\n",
       "    </tr>\n",
       "    <tr>\n",
       "      <th>11821</th>\n",
       "      <td>0</td>\n",
       "      <td>buying a gaggia help i want to venture into es...</td>\n",
       "      <td>buy gaggia help want ventur espresso milk base...</td>\n",
       "      <td>[{'label': 'LABEL_1', 'score': 0.4943251013755...</td>\n",
       "      <td>neutral</td>\n",
       "    </tr>\n",
       "  </tbody>\n",
       "</table>\n",
       "</div>"
      ],
      "text/plain": [
       "       subreddit                                              title  \\\n",
       "11733          0  hand grinder this is another post asking what ...   \n",
       "11767          0  new to espresso need direction and recommendat...   \n",
       "11814          0  aftermarket burrs for handgrinder has anyone u...   \n",
       "11816          0  new grinder  who dis last may our keurig machi...   \n",
       "11821          0  buying a gaggia help i want to venture into es...   \n",
       "\n",
       "                                           stemmed_title  \\\n",
       "11733  hand grinder anoth post ask hand grinder buy t...   \n",
       "11767  new espresso need direct recommend hello lover...   \n",
       "11814  aftermarket burr handgrind anyon use aftermark...   \n",
       "11816  new grinder di last may keurig machin broke st...   \n",
       "11821  buy gaggia help want ventur espresso milk base...   \n",
       "\n",
       "                                               sentiment sentiments  \n",
       "11733  [{'label': 'LABEL_1', 'score': 0.5737534165382...    neutral  \n",
       "11767  [{'label': 'LABEL_1', 'score': 0.6123094558715...    neutral  \n",
       "11814  [{'label': 'LABEL_1', 'score': 0.6050747632980...    neutral  \n",
       "11816  [{'label': 'LABEL_2', 'score': 0.7181528806686...   positive  \n",
       "11821  [{'label': 'LABEL_1', 'score': 0.4943251013755...    neutral  "
      ]
     },
     "execution_count": 66,
     "metadata": {},
     "output_type": "execute_result"
    }
   ],
   "source": [
    "hand_grinder_senti.head()"
   ]
  },
  {
   "cell_type": "code",
   "execution_count": 67,
   "id": "3c8f739f-d63c-49ed-8421-ba97c2f014c7",
   "metadata": {},
   "outputs": [
    {
     "data": {
      "text/plain": [
       "neutral     142\n",
       "positive    108\n",
       "negative     47\n",
       "Name: sentiments, dtype: int64"
      ]
     },
     "execution_count": 67,
     "metadata": {},
     "output_type": "execute_result"
    }
   ],
   "source": [
    "hand_grinder_senti['sentiments'].value_counts()"
   ]
  },
  {
   "cell_type": "code",
   "execution_count": 68,
   "id": "632692af-b7aa-406d-be0a-5dc1438224eb",
   "metadata": {},
   "outputs": [
    {
     "data": {
      "text/html": [
       "<div>\n",
       "<style scoped>\n",
       "    .dataframe tbody tr th:only-of-type {\n",
       "        vertical-align: middle;\n",
       "    }\n",
       "\n",
       "    .dataframe tbody tr th {\n",
       "        vertical-align: top;\n",
       "    }\n",
       "\n",
       "    .dataframe thead th {\n",
       "        text-align: right;\n",
       "    }\n",
       "</style>\n",
       "<table border=\"1\" class=\"dataframe\">\n",
       "  <thead>\n",
       "    <tr style=\"text-align: right;\">\n",
       "      <th></th>\n",
       "      <th>sentiments</th>\n",
       "    </tr>\n",
       "  </thead>\n",
       "  <tbody>\n",
       "    <tr>\n",
       "      <th>neutral</th>\n",
       "      <td>142</td>\n",
       "    </tr>\n",
       "    <tr>\n",
       "      <th>positive</th>\n",
       "      <td>108</td>\n",
       "    </tr>\n",
       "    <tr>\n",
       "      <th>negative</th>\n",
       "      <td>47</td>\n",
       "    </tr>\n",
       "  </tbody>\n",
       "</table>\n",
       "</div>"
      ],
      "text/plain": [
       "          sentiments\n",
       "neutral          142\n",
       "positive         108\n",
       "negative          47"
      ]
     },
     "execution_count": 68,
     "metadata": {},
     "output_type": "execute_result"
    }
   ],
   "source": [
    "hand_grinder_sentiments = pd.DataFrame(hand_grinder_senti['sentiments'].value_counts())\n",
    "hand_grinder_sentiments"
   ]
  },
  {
   "cell_type": "markdown",
   "id": "8205fb46-fd8f-4eb0-94cd-d9bf571c1f5f",
   "metadata": {
    "tags": []
   },
   "source": [
    "## Compare with spacy"
   ]
  },
  {
   "cell_type": "code",
   "execution_count": 69,
   "id": "dcc94c7f-d3a7-49dd-940b-0461dd64e27a",
   "metadata": {},
   "outputs": [],
   "source": [
    "coffee_df_spacy = coffee_df.sample(n=2000, random_state=42)"
   ]
  },
  {
   "cell_type": "code",
   "execution_count": 70,
   "id": "f32b4897-53bf-4655-9f81-7bdc568007fa",
   "metadata": {},
   "outputs": [
    {
     "name": "stdout",
     "output_type": "stream",
     "text": [
      "CPU times: total: 30.5 s\n",
      "Wall time: 30.5 s\n"
     ]
    },
    {
     "data": {
      "text/html": [
       "<div>\n",
       "<style scoped>\n",
       "    .dataframe tbody tr th:only-of-type {\n",
       "        vertical-align: middle;\n",
       "    }\n",
       "\n",
       "    .dataframe tbody tr th {\n",
       "        vertical-align: top;\n",
       "    }\n",
       "\n",
       "    .dataframe thead th {\n",
       "        text-align: right;\n",
       "    }\n",
       "</style>\n",
       "<table border=\"1\" class=\"dataframe\">\n",
       "  <thead>\n",
       "    <tr style=\"text-align: right;\">\n",
       "      <th></th>\n",
       "      <th>subreddit</th>\n",
       "      <th>title</th>\n",
       "      <th>stemmed_title</th>\n",
       "      <th>spacy_sentiment_pred</th>\n",
       "    </tr>\n",
       "  </thead>\n",
       "  <tbody>\n",
       "    <tr>\n",
       "      <th>20113</th>\n",
       "      <td>0</td>\n",
       "      <td>got a nespresso not bad</td>\n",
       "      <td>got nespresso bad</td>\n",
       "      <td>positive</td>\n",
       "    </tr>\n",
       "    <tr>\n",
       "      <th>16507</th>\n",
       "      <td>0</td>\n",
       "      <td>how to “properly” drink a layered drink iced m...</td>\n",
       "      <td>properli drink layer drink ice macchiato bumbl...</td>\n",
       "      <td>positive</td>\n",
       "    </tr>\n",
       "    <tr>\n",
       "      <th>24719</th>\n",
       "      <td>0</td>\n",
       "      <td>filter not working properly in mrcoffee machine</td>\n",
       "      <td>filter work properli mrcoffe machin</td>\n",
       "      <td>positive</td>\n",
       "    </tr>\n",
       "    <tr>\n",
       "      <th>13033</th>\n",
       "      <td>0</td>\n",
       "      <td>virtuoso alternatives i am looking at automati...</td>\n",
       "      <td>virtuoso altern look automat grinder w timer k...</td>\n",
       "      <td>positive</td>\n",
       "    </tr>\n",
       "    <tr>\n",
       "      <th>16151</th>\n",
       "      <td>0</td>\n",
       "      <td>my only gripe with the encore baratza</td>\n",
       "      <td>gripe encor baratza</td>\n",
       "      <td>positive</td>\n",
       "    </tr>\n",
       "  </tbody>\n",
       "</table>\n",
       "</div>"
      ],
      "text/plain": [
       "       subreddit                                              title  \\\n",
       "20113          0                           got a nespresso not bad    \n",
       "16507          0  how to “properly” drink a layered drink iced m...   \n",
       "24719          0   filter not working properly in mrcoffee machine    \n",
       "13033          0  virtuoso alternatives i am looking at automati...   \n",
       "16151          0             my only gripe with the encore baratza    \n",
       "\n",
       "                                           stemmed_title spacy_sentiment_pred  \n",
       "20113                                  got nespresso bad             positive  \n",
       "16507  properli drink layer drink ice macchiato bumbl...             positive  \n",
       "24719                filter work properli mrcoffe machin             positive  \n",
       "13033  virtuoso altern look automat grinder w timer k...             positive  \n",
       "16151                                gripe encor baratza             positive  "
      ]
     },
     "execution_count": 70,
     "metadata": {},
     "output_type": "execute_result"
    }
   ],
   "source": [
    "%%time\n",
    "# Let's calculate the accuracy of Spacy!\n",
    "\n",
    "# # Find the predicted value of sentiment (< 0 -> negative and > 0 -> positive)\n",
    "# def spacy_sentiment_pred(text):\n",
    "#     spacy_output = nlp(text) # extend code from above for single text\n",
    "    \n",
    "#     if spacy_output._.polarity < 0:\n",
    "#         # negative\n",
    "#         return 'negative'\n",
    "#     else:\n",
    "#         # positive\n",
    "#         return 'positive'\n",
    "\n",
    "coffee_df_spacy['spacy_sentiment_pred'] = coffee_df_spacy['title'].apply(spacy_sentiment_pred) # same approach as shown with Vader\n",
    "coffee_df_spacy.head()"
   ]
  },
  {
   "cell_type": "code",
   "execution_count": 71,
   "id": "777b1490-b5df-4408-852a-db3870108f52",
   "metadata": {},
   "outputs": [
    {
     "data": {
      "text/plain": [
       "positive    1688\n",
       "negative     312\n",
       "Name: spacy_sentiment_pred, dtype: int64"
      ]
     },
     "execution_count": 71,
     "metadata": {},
     "output_type": "execute_result"
    }
   ],
   "source": [
    "coffee_df_spacy['spacy_sentiment_pred'].value_counts()"
   ]
  },
  {
   "cell_type": "code",
   "execution_count": 72,
   "id": "6fa71836-2d35-457a-9a84-97339eb6be3f",
   "metadata": {},
   "outputs": [
    {
     "data": {
      "text/html": [
       "<div>\n",
       "<style scoped>\n",
       "    .dataframe tbody tr th:only-of-type {\n",
       "        vertical-align: middle;\n",
       "    }\n",
       "\n",
       "    .dataframe tbody tr th {\n",
       "        vertical-align: top;\n",
       "    }\n",
       "\n",
       "    .dataframe thead th {\n",
       "        text-align: right;\n",
       "    }\n",
       "</style>\n",
       "<table border=\"1\" class=\"dataframe\">\n",
       "  <thead>\n",
       "    <tr style=\"text-align: right;\">\n",
       "      <th></th>\n",
       "      <th>spacy_sentiment_pred</th>\n",
       "    </tr>\n",
       "  </thead>\n",
       "  <tbody>\n",
       "    <tr>\n",
       "      <th>positive</th>\n",
       "      <td>1688</td>\n",
       "    </tr>\n",
       "    <tr>\n",
       "      <th>negative</th>\n",
       "      <td>312</td>\n",
       "    </tr>\n",
       "  </tbody>\n",
       "</table>\n",
       "</div>"
      ],
      "text/plain": [
       "          spacy_sentiment_pred\n",
       "positive                  1688\n",
       "negative                   312"
      ]
     },
     "execution_count": 72,
     "metadata": {},
     "output_type": "execute_result"
    }
   ],
   "source": [
    "coffee_sentiments_spacy = pd.DataFrame(coffee_df_spacy['spacy_sentiment_pred'].value_counts())\n",
    "coffee_sentiments_spacy"
   ]
  },
  {
   "cell_type": "markdown",
   "id": "01b9278d-3593-4599-b7be-a8822cd0624a",
   "metadata": {
    "tags": []
   },
   "source": [
    "<a id=\"SumCoffee\"></a>\n",
    "## Summary for Coffee"
   ]
  },
  {
   "cell_type": "code",
   "execution_count": 73,
   "id": "8630b5a9-4b89-407a-b7f9-0a8120a3b80d",
   "metadata": {},
   "outputs": [],
   "source": [
    "coffee_cols = [\"Overall\", \"Cold Brew\", \"French Press\", \"Moka Pot\", \"Hand Grinder\", \"Overall_spacy\"]\n",
    "all_coffee_sentiments = pd.concat([coffee_sentiments, cold_brew_sentiments, french_press_sentiments, moka_pot_sentiments, hand_grinder_sentiments, coffee_sentiments_spacy], axis=1, ignore_index=True)\n",
    "all_coffee_sentiments.columns = coffee_cols"
   ]
  },
  {
   "cell_type": "code",
   "execution_count": 74,
   "id": "2d0c9efd-0231-4622-81f2-12c6e0c9e31d",
   "metadata": {},
   "outputs": [
    {
     "data": {
      "text/html": [
       "<div>\n",
       "<style scoped>\n",
       "    .dataframe tbody tr th:only-of-type {\n",
       "        vertical-align: middle;\n",
       "    }\n",
       "\n",
       "    .dataframe tbody tr th {\n",
       "        vertical-align: top;\n",
       "    }\n",
       "\n",
       "    .dataframe thead th {\n",
       "        text-align: right;\n",
       "    }\n",
       "</style>\n",
       "<table border=\"1\" class=\"dataframe\">\n",
       "  <thead>\n",
       "    <tr style=\"text-align: right;\">\n",
       "      <th></th>\n",
       "      <th>Overall</th>\n",
       "      <th>Cold Brew</th>\n",
       "      <th>French Press</th>\n",
       "      <th>Moka Pot</th>\n",
       "      <th>Hand Grinder</th>\n",
       "      <th>Overall_spacy</th>\n",
       "    </tr>\n",
       "  </thead>\n",
       "  <tbody>\n",
       "    <tr>\n",
       "      <th>neutral</th>\n",
       "      <td>972</td>\n",
       "      <td>280</td>\n",
       "      <td>384</td>\n",
       "      <td>236</td>\n",
       "      <td>142</td>\n",
       "      <td>NaN</td>\n",
       "    </tr>\n",
       "    <tr>\n",
       "      <th>positive</th>\n",
       "      <td>545</td>\n",
       "      <td>161</td>\n",
       "      <td>237</td>\n",
       "      <td>132</td>\n",
       "      <td>108</td>\n",
       "      <td>1688.0</td>\n",
       "    </tr>\n",
       "    <tr>\n",
       "      <th>negative</th>\n",
       "      <td>483</td>\n",
       "      <td>137</td>\n",
       "      <td>170</td>\n",
       "      <td>118</td>\n",
       "      <td>47</td>\n",
       "      <td>312.0</td>\n",
       "    </tr>\n",
       "  </tbody>\n",
       "</table>\n",
       "</div>"
      ],
      "text/plain": [
       "          Overall  Cold Brew  French Press  Moka Pot  Hand Grinder  \\\n",
       "neutral       972        280           384       236           142   \n",
       "positive      545        161           237       132           108   \n",
       "negative      483        137           170       118            47   \n",
       "\n",
       "          Overall_spacy  \n",
       "neutral             NaN  \n",
       "positive         1688.0  \n",
       "negative          312.0  "
      ]
     },
     "execution_count": 74,
     "metadata": {},
     "output_type": "execute_result"
    }
   ],
   "source": [
    "all_coffee_sentiments"
   ]
  },
  {
   "cell_type": "code",
   "execution_count": 75,
   "id": "e48ea958-5e4a-47ab-aadc-dea5ace14bd3",
   "metadata": {},
   "outputs": [
    {
     "data": {
      "text/html": [
       "<div>\n",
       "<style scoped>\n",
       "    .dataframe tbody tr th:only-of-type {\n",
       "        vertical-align: middle;\n",
       "    }\n",
       "\n",
       "    .dataframe tbody tr th {\n",
       "        vertical-align: top;\n",
       "    }\n",
       "\n",
       "    .dataframe thead th {\n",
       "        text-align: right;\n",
       "    }\n",
       "</style>\n",
       "<table border=\"1\" class=\"dataframe\">\n",
       "  <thead>\n",
       "    <tr style=\"text-align: right;\">\n",
       "      <th></th>\n",
       "      <th>Overall</th>\n",
       "      <th>Cold Brew</th>\n",
       "      <th>French Press</th>\n",
       "      <th>Moka Pot</th>\n",
       "      <th>Hand Grinder</th>\n",
       "      <th>Overall_spacy</th>\n",
       "    </tr>\n",
       "  </thead>\n",
       "  <tbody>\n",
       "    <tr>\n",
       "      <th>neutral</th>\n",
       "      <td>0.49</td>\n",
       "      <td>0.48</td>\n",
       "      <td>0.49</td>\n",
       "      <td>0.49</td>\n",
       "      <td>0.48</td>\n",
       "      <td>NaN</td>\n",
       "    </tr>\n",
       "    <tr>\n",
       "      <th>positive</th>\n",
       "      <td>0.27</td>\n",
       "      <td>0.28</td>\n",
       "      <td>0.30</td>\n",
       "      <td>0.27</td>\n",
       "      <td>0.36</td>\n",
       "      <td>0.84</td>\n",
       "    </tr>\n",
       "    <tr>\n",
       "      <th>negative</th>\n",
       "      <td>0.24</td>\n",
       "      <td>0.24</td>\n",
       "      <td>0.21</td>\n",
       "      <td>0.24</td>\n",
       "      <td>0.16</td>\n",
       "      <td>0.16</td>\n",
       "    </tr>\n",
       "  </tbody>\n",
       "</table>\n",
       "</div>"
      ],
      "text/plain": [
       "          Overall  Cold Brew  French Press  Moka Pot  Hand Grinder  \\\n",
       "neutral      0.49       0.48          0.49      0.49          0.48   \n",
       "positive     0.27       0.28          0.30      0.27          0.36   \n",
       "negative     0.24       0.24          0.21      0.24          0.16   \n",
       "\n",
       "          Overall_spacy  \n",
       "neutral             NaN  \n",
       "positive           0.84  \n",
       "negative           0.16  "
      ]
     },
     "execution_count": 75,
     "metadata": {},
     "output_type": "execute_result"
    }
   ],
   "source": [
    "all_coffee_sentiments_perc = round(all_coffee_sentiments / all_coffee_sentiments.sum(), 2)\n",
    "all_coffee_sentiments_perc"
   ]
  },
  {
   "cell_type": "markdown",
   "id": "14fec0a7-a3ca-4bea-8f9b-bfea97c9b89b",
   "metadata": {},
   "source": [
    "<a id=\"Conclusion\"></a>\n",
    "## Recommendation and Conclusion"
   ]
  },
  {
   "cell_type": "markdown",
   "id": "ee0dec10-1894-4dd7-9709-a2f983f511d3",
   "metadata": {},
   "source": [
    "A comparison between sentiment analysis shows that there is generally a positive sentiment towards tea and coffee, which is more evident in spacy's analysis since there is no neutral scoring. Roberta base sentiment may be misleading with a large percentage returning neutral sentiment (ie, coffee returns 27% positive to 24% negative with a large 49% being neutral - this shows up as 84% positive and 16% negative in spacy's sentiment analysis). Sentiment analysis should also be compared against a human label data set to test the accuracy (although we do not have it at this point). A simple preprocessing can be done also to convert the emojis to text for sentiment analysis. \n",
    "\n",
    "It is also observed that the unique flavours such as earl grey tea and tie guan yin are very low numbers (less than 100) as compared to the more common flavours out of an approximate 11,000 posts on subreddit tea. However, these are exactly what may be important in a business context and what the cafe would want to focus on. \n",
    "\n",
    "<h1 align=\"center\">Tea</h1>\n",
    "\n",
    "|          |   Overall |   Green Tea |   Earl Grey Tea |   Tie Guan Yin |   Black Tea |   Overall_spacy |\n",
    "|:---------|----------:|------------:|----------------:|---------------:|------------:|----------------:|\n",
    "| neutral  |      1090 |         359 |              16 |             27 |         313 |             nan |\n",
    "| positive |       709 |         352 |              14 |             18 |         303 |            1731 |\n",
    "| negative |       201 |         121 |               6 |              1 |          97 |             269 |\n",
    "\n",
    "|          |   Overall |   Green Tea |   Earl Grey Tea |   Tie Guan Yin |   Black Tea |   Overall_spacy |\n",
    "|:---------|----------:|------------:|----------------:|---------------:|------------:|----------------:|\n",
    "| neutral  |      0.55 |        0.43 |            0.44 |           0.59 |        0.44 |          nan    |\n",
    "| positive |      0.35 |        0.42 |            0.39 |           0.39 |        0.42 |            0.87 |\n",
    "| negative |      0.1  |        0.15 |            0.17 |           0.02 |        0.14 |            0.13 |\n",
    "\n",
    "<h1 align=\"center\">Coffee</h1>\n",
    "\n",
    "|          |   Overall |   Cold Brew |   French Press |   Moka Pot |   Hand Grinder |   Overall_spacy |\n",
    "|:---------|----------:|------------:|---------------:|-----------:|---------------:|----------------:|\n",
    "| neutral  |       972 |         280 |            384 |        236 |            142 |             nan |\n",
    "| positive |       545 |         161 |            237 |        132 |            108 |            1688 |\n",
    "| negative |       483 |         137 |            170 |        118 |             47 |             312 |\n",
    "\n",
    "|          |   Overall |   Cold Brew |   French Press |   Moka Pot |   Hand Grinder |   Overall_spacy |\n",
    "|:---------|----------:|------------:|---------------:|-----------:|---------------:|----------------:|\n",
    "| neutral  |      0.49 |        0.48 |           0.49 |       0.49 |           0.48 |          nan    |\n",
    "| positive |      0.27 |        0.28 |           0.3  |       0.27 |           0.36 |            0.84 |\n",
    "| negative |      0.24 |        0.24 |           0.21 |       0.24 |           0.16 |            0.16 |\n",
    "\n",
    "To conclude, we have managed to identify top words in n-grams using CountVectorizer and TF-IDF Vectorizer. From there we have managed to gain some insights to what may be added on to the cafe's menu. We have also identified the best model as Logistic Regression that can be used to predict if a post came from the subreddit tea or coffee. This can be used for sorting out feedback from the public to the cafe and also potentially identifying more key words. \n",
    "\n",
    "As one of the largest online forum platform with 52 million daily active users and a total of 430 million number of monthly active users ([source](https://backlinko.com/reddit-users)), Reddit is a good starting point to scrap and analysis data. However, it is also noted that the largest base of users are from the United States of America - which may present a skewed representation of the population and also to consider where the cafe might be set up. \n",
    "\n",
    "Subsequently, it would be beneficial to look into more data sets from different sources or more specific subreddit topics. For example, to look in to subreddits such as 'Starbucks' to identify the more unique and popular words, or other platforms such as Facebook groups and Twitter hashtags. "
   ]
  }
 ],
 "metadata": {
  "kernelspec": {
   "display_name": "Python 3 (ipykernel)",
   "language": "python",
   "name": "python3"
  },
  "language_info": {
   "codemirror_mode": {
    "name": "ipython",
    "version": 3
   },
   "file_extension": ".py",
   "mimetype": "text/x-python",
   "name": "python",
   "nbconvert_exporter": "python",
   "pygments_lexer": "ipython3",
   "version": "3.8.13"
  }
 },
 "nbformat": 4,
 "nbformat_minor": 5
}
